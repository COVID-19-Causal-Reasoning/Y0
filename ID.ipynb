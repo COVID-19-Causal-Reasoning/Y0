{
 "cells": [
  {
   "cell_type": "markdown",
   "metadata": {
    "toc": true
   },
   "source": [
    "<h1>Table of Contents<span class=\"tocSkip\"></span></h1>\n",
    "<div class=\"toc\"><ul class=\"toc-item\"><li><span><a href=\"#Figure-1:-Causal-graphs-where--$P(Y|do(x))$-is-not-identifiable\" data-toc-modified-id=\"Figure-1:-Causal-graphs-where--$P(Y|do(x))$-is-not-identifiable-1\"><span class=\"toc-item-num\">1&nbsp;&nbsp;</span>Figure 1: Causal graphs where  $P(Y|do(x))$ is not identifiable</a></span><ul class=\"toc-item\"><li><span><a href=\"#Figure-1a\" data-toc-modified-id=\"Figure-1a-1.1\"><span class=\"toc-item-num\">1.1&nbsp;&nbsp;</span>Figure 1a</a></span></li><li><span><a href=\"#Figure-1b\" data-toc-modified-id=\"Figure-1b-1.2\"><span class=\"toc-item-num\">1.2&nbsp;&nbsp;</span>Figure 1b</a></span></li><li><span><a href=\"#Figure-1c\" data-toc-modified-id=\"Figure-1c-1.3\"><span class=\"toc-item-num\">1.3&nbsp;&nbsp;</span>Figure 1c</a></span></li><li><span><a href=\"#Figure-1d\" data-toc-modified-id=\"Figure-1d-1.4\"><span class=\"toc-item-num\">1.4&nbsp;&nbsp;</span>Figure 1d</a></span></li><li><span><a href=\"#Figure-1e\" data-toc-modified-id=\"Figure-1e-1.5\"><span class=\"toc-item-num\">1.5&nbsp;&nbsp;</span>Figure 1e</a></span></li><li><span><a href=\"#Figure-1f\" data-toc-modified-id=\"Figure-1f-1.6\"><span class=\"toc-item-num\">1.6&nbsp;&nbsp;</span>Figure 1f</a></span></li><li><span><a href=\"#Figure-1g\" data-toc-modified-id=\"Figure-1g-1.7\"><span class=\"toc-item-num\">1.7&nbsp;&nbsp;</span>Figure 1g</a></span></li><li><span><a href=\"#Figure-1h\" data-toc-modified-id=\"Figure-1h-1.8\"><span class=\"toc-item-num\">1.8&nbsp;&nbsp;</span>Figure 1h</a></span></li></ul></li><li><span><a href=\"#Figure-2:-Causal-graphs-admitting-identifiable-effect-$P(y|do(x))$\" data-toc-modified-id=\"Figure-2:-Causal-graphs-admitting-identifiable-effect-$P(y|do(x))$-2\"><span class=\"toc-item-num\">2&nbsp;&nbsp;</span>Figure 2: Causal graphs admitting identifiable effect $P(y|do(x))$</a></span><ul class=\"toc-item\"><li><span><a href=\"#Figure-2a\" data-toc-modified-id=\"Figure-2a-2.1\"><span class=\"toc-item-num\">2.1&nbsp;&nbsp;</span>Figure 2a</a></span></li></ul></li></ul></div>"
   ]
  },
  {
   "cell_type": "code",
   "execution_count": 1,
   "metadata": {
    "ExecuteTime": {
     "end_time": "2019-04-23T18:00:50.753661Z",
     "start_time": "2019-04-23T18:00:50.745001Z"
    }
   },
   "outputs": [
    {
     "name": "stdout",
     "output_type": "stream",
     "text": [
      "Overwriting identify.py\n"
     ]
    }
   ],
   "source": [
    "%%writefile identify.py\n",
    "\n",
    "import networkx as nx\n",
    "from matplotlib import pylab as plt\n",
    "import seaborn as sns\n",
    "import inspect\n",
    "from collections import OrderedDict\n",
    "import pgmpy as pgm\n",
    "from pgmpy.models import BayesianModel\n",
    "from pgmpy.factors.continuous import ContinuousFactor\n",
    "from pgmpy.factors.discrete import TabularCPD, JointProbabilityDistribution\n",
    "from pgmpy.base import DAG\n",
    "from pgmpy.extern.six.moves import reduce\n",
    "import numpy as np\n",
    "import pandas as pd\n",
    "from numpy.random import randn\n",
    "from itertools import product\n",
    "from pgmpy.factors.base import factor_product\n",
    "from IPython.display import Latex\n",
    "import sys\n",
    "from matplotlib.patches import FancyArrowPatch, Circle \n",
    "\n",
    "\n",
    "class Fail(Exception):\n",
    "    pass\n",
    "\n",
    "\n",
    "\n",
    "def draw_graph( G, U ):\n",
    "    pos = nx.spring_layout(G)\n",
    "    V = G.nodes\n",
    "    #nx.draw(G, pos)\n",
    "    \n",
    "    nx.draw_networkx_nodes(G, pos,\n",
    "                       nodelist=V,\n",
    "                       node_color='r',\n",
    "                       node_size=100,\n",
    "                       alpha=0.8)\n",
    "    nx.draw_networkx_edges(U, pos,\n",
    "                       edgelist=list(U.edges),\n",
    "                       linestyle='dashed',\n",
    "                       arrows=True,\n",
    "                       arrowstyle='<|-|>',\n",
    "                       connectionstyle=\"arc3,rad=0.3\",\n",
    "                       width=3, alpha=0.5)\n",
    "    nx.draw_networkx_edges(G, pos,\n",
    "                          edgelist=list(G.edges),\n",
    "                          style='solid',\n",
    "                          width=2, alpha=0.5)\n",
    "    nx.draw_networkx_labels(G, pos)\n",
    "    plt.show()\n",
    "\n",
    "def to_frame(self, tablefmt=\"fancy_grid\", print_state_names=True):\n",
    "        headers_list = []\n",
    "        # build column headers\n",
    "\n",
    "        evidence = self.variables[1:]\n",
    "        evidence_card = self.cardinality[1:]\n",
    "        if evidence:\n",
    "            col_indexes = np.array(list(product(*[range(i) for i in evidence_card])))\n",
    "            if self.state_names and print_state_names:\n",
    "                for i in range(len(evidence_card)):\n",
    "                    column_header = [str(evidence[i])] + ['{var}({state})'.format\n",
    "                                                     (var=evidence[i],\n",
    "                                                      state=self.state_names[evidence[i]][d])\n",
    "                                                     for d in col_indexes.T[i]]\n",
    "                    headers_list.append(column_header)\n",
    "            else:\n",
    "                for i in range(len(evidence_card)):\n",
    "                    column_header = [str(evidence[i])] + ['{s}_{d}'.format(s=evidence[i], d=d) \n",
    "                                                          for d in col_indexes.T[i]]\n",
    "                    headers_list.append(column_header)\n",
    "\n",
    "        # Build row headers\n",
    "        if self.state_names and print_state_names:\n",
    "            variable_array = [['{var}({state})'.format\n",
    "                               (var=self.variable, state=self.state_names[self.variable][i])\n",
    "                               for i in range(self.variable_card)]]\n",
    "        else:\n",
    "            variable_array = [['{s}_{d}'.format(s=self.variable, d=i) for i in range(self.variable_card)]]\n",
    "        # Stack with data\n",
    "        labeled_rows = np.hstack((np.array(variable_array).T, self.get_values())).tolist()\n",
    "        # No support for multi-headers in tabulate\n",
    "        if len(headers_list) > 0:\n",
    "            column_idx = pd.MultiIndex.from_arrays([header[1:] for header in headers_list],\n",
    "                                              names= [header[0] for header in headers_list])\n",
    "            row_idx_name = 'P({}|{})'.format(self.variable, ','.join(column_idx.names))\n",
    "        else:\n",
    "            column_idx = [self.variable]\n",
    "            row_idx_name = 'P({})'.format(self.variable)\n",
    "        df = pd.DataFrame(self.get_values(), columns=column_idx, index=variable_array)\n",
    "        df.index.name = row_idx_name\n",
    "        return df\n",
    "\n",
    "def adjacent_nodes( pairs, node ):\n",
    "    \"Returns the nodes adjacent to node (via the bidirected edges in pairs).\"\n",
    "    adjacent_nodes = set()\n",
    "    for pair in pairs:\n",
    "        if node in pair:\n",
    "            adjacent_nodes |= set(pair)\n",
    "    return list(adjacent_nodes - set([node]))\n",
    "   \n",
    "def factorize_c_components( U ):\n",
    "    \"\"\"Returns the confounded components of G as a list of sets of vertices\"\"\"\n",
    "    def recur(nodes = list(U.nodes), components = list()):\n",
    "        if len(nodes) == 0:\n",
    "            return components\n",
    "        else:\n",
    "            current_node = nodes[0]\n",
    "            current_component = connected_component( U.edges ,\n",
    "                                                     current_node )\n",
    "            print('found connected component {} of node {}'.format(current_component, current_node))\n",
    "            \n",
    "            return recur( list(set(nodes[1:]) - current_component ),\n",
    "                          components + [current_component] ) \n",
    "    return recur()\n",
    "def connected_component( pairs, node ):\n",
    "    def recur( frontier=[node], visited=set() ):\n",
    "        if len(frontier) == 0:\n",
    "            return visited\n",
    "        else:\n",
    "            current = frontier[0]\n",
    "            if current in visited:\n",
    "                return recur( frontier[1:], visited )\n",
    "            else:\n",
    "                visited.add( current )\n",
    "                return recur( frontier[1:] + adjacent_nodes( pairs, current),\n",
    "                              visited )\n",
    "    return recur( )\n",
    "\n",
    "\n",
    "def remove_nodes_from( G , x ):\n",
    "    G_x = G.copy()\n",
    "    G_x.remove_nodes_from( x )\n",
    "    return G_x\n",
    "\n",
    "def predecessors( pi, v ):\n",
    "    return pi[:pi.index(v)]\n",
    "\n",
    "def marginalize( marginals, P ):\n",
    "    return [Pv.marginalize( (set(Pv.scope()) & marginals) - set([Pv.variable]),\n",
    "                          inplace=False)\n",
    "           for Pv in P]\n",
    "def sum_product(  marginals, P ):\n",
    "    if len(P) > 1:\n",
    "        return factor_product( *P ).\\\n",
    "               marginalize( marginals, inplace=False )\n",
    "    elif len(P) == 1:\n",
    "        return P[0].marginalize( marginals, inplace=False )\n",
    "    else:\n",
    "        raise NameError(\"P is empty!\")\n",
    "        \n",
    "def cut_incoming( G, x ):\n",
    "    G_x = G.copy()\n",
    "    for edge in G.edges:\n",
    "        if edge[1] in x:\n",
    "            G_x.remove_edge( *edge )\n",
    "    return G_x\n",
    "def draw_bidirected_graph( bigraph ):\n",
    "    pos = nx.spring_layout(bigraph)\n",
    "    nx.draw(bigraph, pos)\n",
    "    nx.draw_networkx_labels(bigraph, pos)\n",
    "    plt.show()\n",
    "\n",
    "def find_superset( C_component, s ):\n",
    "    for s_prime in C_component:\n",
    "        if len(s - s_prime) == 0:\n",
    "            return s_prime\n",
    "    return []\n",
    "    \n",
    "def ID( y, x, P, G, U ):\n",
    "    print('Y: {}\\nX: {}'.format(y, x))\n",
    "    [display(to_frame(cpd)) for cpd in P]\n",
    "    draw_graph( G, U)\n",
    "    v = set(G.nodes)\n",
    "    # line 1\n",
    "    if len(x) == 0:\n",
    "        print('Line 1')\n",
    "        return sum_product( v - y,  P )\n",
    "    # line 2\n",
    "    ancestors_y = G._get_ancestors_of( list(y) )\n",
    "    if len(v - ancestors_y) > 0:\n",
    "        print('Line 2')\n",
    "        ID( y, \n",
    "            x & ancestors_y,\n",
    "           marginalize( v - ancestors_y, P ),\n",
    "           G.subgraph( ancestors_y ),\n",
    "           U.subgraph( ancestors_y )\n",
    "          )\n",
    "    \n",
    "    # line 3\n",
    "    G_bar_x = cut_incoming( G, x )\n",
    "    w = (v - x) - G_bar_x._get_ancestors_of( list(y) )\n",
    "    if len( w ) > 0:\n",
    "        print('Line 3')\n",
    "        ID( y, x | w, P, G, U )\n",
    "        \n",
    "    # line 4\n",
    "    U_x = remove_nodes_from( U, x )\n",
    "    C_components_of_U_x = factorize_c_components( U_x )\n",
    "    print('C_x: {}'.format(C_components_of_U_x))\n",
    "    if len(C_components_of_U_x) > 1:\n",
    "        print('Line 4')\n",
    "        return sum_product( v - (x|y), \n",
    "                            [ID(  C_component, \n",
    "                                  v - C_component,\n",
    "                                  P,\n",
    "                                  G,\n",
    "                                  U )\n",
    "                            for C_component in C_components_of_U_x] )\n",
    "\n",
    "    elif len(C_components_of_U_x) == 1:\n",
    "\n",
    "        # line 5\n",
    "        S_x = C_components_of_U_x[0]\n",
    "        C_components_of_U = factorize_c_components( U )\n",
    "        if len(C_components_of_U) == 1 and C_components_of_U[0] == v:\n",
    "            print('Line 5')\n",
    "            raise Fail( \n",
    "                \"C_components_of_U {} and C_components_of_U_x {} form a hedge\".format(\n",
    "                    C_components_of_U, C_components_of_U_x ))\n",
    "        # line 6\n",
    "        pi = nx.topological_sort( G )\n",
    "        if S_x  in C_components_of_U:\n",
    "            print('Line 6')\n",
    "            return sum_product(S_x - y, \n",
    "                               [Pv_given_pi \n",
    "                                for Pv_given_pi in P\n",
    "                                if Pv_i_given_v_pi.variable in S_x] )\n",
    "        # line 7\n",
    "        S_prime = find_superset( C_components_of_U, S_x )  \n",
    "        if len(S_prime) > 0:\n",
    "            print('Line 7')\n",
    "            print('Found superset: {}'.format( S_prime))\n",
    "            P_prime = [Pv\n",
    "                       for Pv in P\n",
    "                       if Pv.variable in S_prime ]\n",
    "            return ID( y,\n",
    "                       x & S_prime,\n",
    "                       P_prime,\n",
    "                       G.subgraph( S_prime ), \n",
    "                       U.subgraph( S_prime )\n",
    "                     )\n",
    "        else:\n",
    "            raise Error(\"S' is empty\")\n",
    "    else:\n",
    "        raise Error(\"ID preconditions failed. C_x is empty\")\n"
   ]
  },
  {
   "cell_type": "code",
   "execution_count": 7,
   "metadata": {
    "ExecuteTime": {
     "end_time": "2019-04-24T16:14:30.911583Z",
     "start_time": "2019-04-24T16:14:29.878096Z"
    }
   },
   "outputs": [],
   "source": [
    "%matplotlib inline\n",
    "from identify import draw_graph, ID\n",
    "from pgmpy.models import BayesianModel\n",
    "from pgmpy.factors.continuous import ContinuousFactor\n",
    "from pgmpy.factors.discrete import TabularCPD, JointProbabilityDistribution\n",
    "from pgmpy.base import DAG\n",
    "import pandas as pd\n",
    "import numpy as np\n",
    "import sympy as sy"
   ]
  },
  {
   "cell_type": "code",
   "execution_count": 29,
   "metadata": {
    "ExecuteTime": {
     "end_time": "2019-04-24T20:11:07.242801Z",
     "start_time": "2019-04-24T20:11:07.170195Z"
    }
   },
   "outputs": [
    {
     "data": {
      "image/png": "[encoded data removed]",
      "text/latex": [
       "$$\\prod_{X=x}^{\\left|{X}\\right|} P{\\left (X \\right )} P{\\left (X,Y \\right )}$$"
      ],
      "text/plain": [
       " │X│              \n",
       "┬───┬             \n",
       "│   │ P(X)⋅P(X, Y)\n",
       "│   │             \n",
       "X = x             "
      ]
     },
     "execution_count": 29,
     "metadata": {},
     "output_type": "execute_result"
    }
   ],
   "source": [
    "from sympy import Function, Symbol, Eq, simplify, init_printing\n",
    "from sympy.concrete.summations import Sum\n",
    "from sympy.concrete.products import Product\n",
    "from sympy.functions import Abs\n",
    "init_printing()\n",
    "X, Y = Symbol('X'), Symbol('Y')\n",
    "x = Symbol('x')\n",
    "P= Function('P')\n",
    "Product(P(X,Y)*P(X),(X,x,Abs(X)))"
   ]
  },
  {
   "cell_type": "markdown",
   "metadata": {},
   "source": [
    "# Figure 1: Causal graphs where  $P(Y|do(x))$ is not identifiable\n",
    "\n",
    "## Figure 1a"
   ]
  },
  {
   "cell_type": "code",
   "execution_count": 3,
   "metadata": {
    "ExecuteTime": {
     "end_time": "2019-04-23T18:00:55.627022Z",
     "start_time": "2019-04-23T18:00:55.463828Z"
    },
    "scrolled": true
   },
   "outputs": [
    {
     "data": {
      "image/png": "[encoded data removed]",
      "text/plain": [
       "<Figure size 432x288 with 1 Axes>"
      ]
     },
     "metadata": {},
     "output_type": "display_data"
    }
   ],
   "source": [
    "figure_1a = dict(G=BayesianModel([('X','Y')]),\n",
    "                 U=DAG([('X','Y')]))\n",
    "\n",
    "draw_graph(**figure_1a)\n",
    "            \n",
    "                 "
   ]
  },
  {
   "cell_type": "code",
   "execution_count": 4,
   "metadata": {
    "ExecuteTime": {
     "end_time": "2019-04-23T18:00:58.421092Z",
     "start_time": "2019-04-23T18:00:57.984862Z"
    }
   },
   "outputs": [
    {
     "name": "stdout",
     "output_type": "stream",
     "text": [
      "Y: frozenset({'Y'})\n",
      "X: frozenset({'X'})\n"
     ]
    },
    {
     "data": {
      "text/html": [
       "<div>\n",
       "<style scoped>\n",
       "    .dataframe tbody tr th:only-of-type {\n",
       "        vertical-align: middle;\n",
       "    }\n",
       "\n",
       "    .dataframe tbody tr th {\n",
       "        vertical-align: top;\n",
       "    }\n",
       "\n",
       "    .dataframe thead th {\n",
       "        text-align: right;\n",
       "    }\n",
       "</style>\n",
       "<table border=\"1\" class=\"dataframe\">\n",
       "  <thead>\n",
       "    <tr style=\"text-align: right;\">\n",
       "      <th></th>\n",
       "      <th>X</th>\n",
       "    </tr>\n",
       "  </thead>\n",
       "  <tbody>\n",
       "    <tr>\n",
       "      <th>X(0)</th>\n",
       "      <td>0.492</td>\n",
       "    </tr>\n",
       "    <tr>\n",
       "      <th>X(1)</th>\n",
       "      <td>0.508</td>\n",
       "    </tr>\n",
       "  </tbody>\n",
       "</table>\n",
       "</div>"
      ],
      "text/plain": [
       "          X\n",
       "X(0)  0.492\n",
       "X(1)  0.508"
      ]
     },
     "metadata": {},
     "output_type": "display_data"
    },
    {
     "data": {
      "text/html": [
       "<div>\n",
       "<style scoped>\n",
       "    .dataframe tbody tr th:only-of-type {\n",
       "        vertical-align: middle;\n",
       "    }\n",
       "\n",
       "    .dataframe tbody tr th {\n",
       "        vertical-align: top;\n",
       "    }\n",
       "\n",
       "    .dataframe thead tr th {\n",
       "        text-align: left;\n",
       "    }\n",
       "</style>\n",
       "<table border=\"1\" class=\"dataframe\">\n",
       "  <thead>\n",
       "    <tr>\n",
       "      <th>X</th>\n",
       "      <th>X(0)</th>\n",
       "      <th>X(1)</th>\n",
       "    </tr>\n",
       "  </thead>\n",
       "  <tbody>\n",
       "    <tr>\n",
       "      <th>Y(0)</th>\n",
       "      <td>0.522358</td>\n",
       "      <td>0.464567</td>\n",
       "    </tr>\n",
       "    <tr>\n",
       "      <th>Y(1)</th>\n",
       "      <td>0.477642</td>\n",
       "      <td>0.535433</td>\n",
       "    </tr>\n",
       "  </tbody>\n",
       "</table>\n",
       "</div>"
      ],
      "text/plain": [
       "X         X(0)      X(1)\n",
       "Y(0)  0.522358  0.464567\n",
       "Y(1)  0.477642  0.535433"
      ]
     },
     "metadata": {},
     "output_type": "display_data"
    },
    {
     "data": {
      "image/png": "[encoded data removed]",
      "text/plain": [
       "<Figure size 432x288 with 1 Axes>"
      ]
     },
     "metadata": {},
     "output_type": "display_data"
    },
    {
     "name": "stdout",
     "output_type": "stream",
     "text": [
      "found connected component {'Y'} of node Y\n",
      "C_x: [{'Y'}]\n",
      "found connected component {'Y', 'X'} of node X\n",
      "Line 5\n"
     ]
    },
    {
     "ename": "Fail",
     "evalue": "C_components_of_U [{'Y', 'X'}] and C_components_of_U_x [{'Y'}] form a hedge",
     "output_type": "error",
     "traceback": [
      "\u001b[0;31m---------------------------------------------------------------------------\u001b[0m",
      "\u001b[0;31mFail\u001b[0m                                      Traceback (most recent call last)",
      "\u001b[0;32m<ipython-input-4-ec9f0fcacdd4>\u001b[0m in \u001b[0;36m<module>\u001b[0;34m()\u001b[0m\n\u001b[1;32m     12\u001b[0m \u001b[0mP\u001b[0m \u001b[0;34m=\u001b[0m \u001b[0mG\u001b[0m\u001b[0;34m.\u001b[0m\u001b[0mget_cpds\u001b[0m\u001b[0;34m(\u001b[0m\u001b[0;34m)\u001b[0m\u001b[0;34m\u001b[0m\u001b[0m\n\u001b[1;32m     13\u001b[0m \u001b[0;34m\u001b[0m\u001b[0m\n\u001b[0;32m---> 14\u001b[0;31m \u001b[0mID\u001b[0m\u001b[0;34m(\u001b[0m\u001b[0my\u001b[0m\u001b[0;34m,\u001b[0m \u001b[0mx\u001b[0m\u001b[0;34m,\u001b[0m \u001b[0mP\u001b[0m\u001b[0;34m,\u001b[0m \u001b[0mG\u001b[0m\u001b[0;34m,\u001b[0m \u001b[0mU\u001b[0m\u001b[0;34m)\u001b[0m\u001b[0;34m\u001b[0m\u001b[0m\n\u001b[0m",
      "\u001b[0;32m~/Projects/DL/CausalInference/pgmpy_notebook/notebooks/identify.py\u001b[0m in \u001b[0;36mID\u001b[0;34m(y, x, P, G, U)\u001b[0m\n\u001b[1;32m    218\u001b[0m             raise Fail( \n\u001b[1;32m    219\u001b[0m                 \"C_components_of_U {} and C_components_of_U_x {} form a hedge\".format(\n\u001b[0;32m--> 220\u001b[0;31m                     C_components_of_U, C_components_of_U_x ))\n\u001b[0m\u001b[1;32m    221\u001b[0m         \u001b[0;31m# line 6\u001b[0m\u001b[0;34m\u001b[0m\u001b[0;34m\u001b[0m\u001b[0m\n\u001b[1;32m    222\u001b[0m         \u001b[0mpi\u001b[0m \u001b[0;34m=\u001b[0m \u001b[0mnx\u001b[0m\u001b[0;34m.\u001b[0m\u001b[0mtopological_sort\u001b[0m\u001b[0;34m(\u001b[0m \u001b[0mG\u001b[0m \u001b[0;34m)\u001b[0m\u001b[0;34m\u001b[0m\u001b[0m\n",
      "\u001b[0;31mFail\u001b[0m: C_components_of_U [{'Y', 'X'}] and C_components_of_U_x [{'Y'}] form a hedge"
     ]
    }
   ],
   "source": [
    "U = figure_1a['U']\n",
    "G = figure_1a['G']\n",
    "x, y = frozenset({'X'}), frozenset({'Y'})\n",
    "\n",
    "data = pd.DataFrame(np.random.randint(low=0, high=2, size=(1000,2)),\n",
    "                   columns=['X','Y'])\n",
    "\n",
    "G.fit(data)\n",
    "G.check_model()\n",
    "\n",
    "\n",
    "P = G.get_cpds()\n",
    "\n",
    "ID(y, x, P, G, U)"
   ]
  },
  {
   "cell_type": "markdown",
   "metadata": {},
   "source": [
    "## Figure 1b"
   ]
  },
  {
   "cell_type": "code",
   "execution_count": 5,
   "metadata": {
    "ExecuteTime": {
     "end_time": "2019-04-23T18:02:09.360177Z",
     "start_time": "2019-04-23T18:02:09.197431Z"
    }
   },
   "outputs": [
    {
     "data": {
      "image/png": "[encoded data removed]",
      "text/plain": [
       "<Figure size 432x288 with 1 Axes>"
      ]
     },
     "metadata": {},
     "output_type": "display_data"
    }
   ],
   "source": [
    "figure_1b = dict(G=BayesianModel([('X','Z'),\n",
    "                        ('Z','Y')]),\n",
    "                 U =DAG([('X','Z')]))\n",
    "draw_graph(**figure_1b)"
   ]
  },
  {
   "cell_type": "code",
   "execution_count": 6,
   "metadata": {
    "ExecuteTime": {
     "end_time": "2019-04-23T18:02:12.661032Z",
     "start_time": "2019-04-23T18:02:12.264280Z"
    },
    "scrolled": false
   },
   "outputs": [
    {
     "name": "stdout",
     "output_type": "stream",
     "text": [
      "Y: frozenset({'Y'})\n",
      "X: frozenset({'X'})\n"
     ]
    },
    {
     "data": {
      "text/html": [
       "<div>\n",
       "<style scoped>\n",
       "    .dataframe tbody tr th:only-of-type {\n",
       "        vertical-align: middle;\n",
       "    }\n",
       "\n",
       "    .dataframe tbody tr th {\n",
       "        vertical-align: top;\n",
       "    }\n",
       "\n",
       "    .dataframe thead th {\n",
       "        text-align: right;\n",
       "    }\n",
       "</style>\n",
       "<table border=\"1\" class=\"dataframe\">\n",
       "  <thead>\n",
       "    <tr style=\"text-align: right;\">\n",
       "      <th></th>\n",
       "      <th>X</th>\n",
       "    </tr>\n",
       "  </thead>\n",
       "  <tbody>\n",
       "    <tr>\n",
       "      <th>X(0)</th>\n",
       "      <td>0.485</td>\n",
       "    </tr>\n",
       "    <tr>\n",
       "      <th>X(1)</th>\n",
       "      <td>0.515</td>\n",
       "    </tr>\n",
       "  </tbody>\n",
       "</table>\n",
       "</div>"
      ],
      "text/plain": [
       "          X\n",
       "X(0)  0.485\n",
       "X(1)  0.515"
      ]
     },
     "metadata": {},
     "output_type": "display_data"
    },
    {
     "data": {
      "text/html": [
       "<div>\n",
       "<style scoped>\n",
       "    .dataframe tbody tr th:only-of-type {\n",
       "        vertical-align: middle;\n",
       "    }\n",
       "\n",
       "    .dataframe tbody tr th {\n",
       "        vertical-align: top;\n",
       "    }\n",
       "\n",
       "    .dataframe thead tr th {\n",
       "        text-align: left;\n",
       "    }\n",
       "</style>\n",
       "<table border=\"1\" class=\"dataframe\">\n",
       "  <thead>\n",
       "    <tr>\n",
       "      <th>Z</th>\n",
       "      <th>Z(0)</th>\n",
       "      <th>Z(1)</th>\n",
       "    </tr>\n",
       "  </thead>\n",
       "  <tbody>\n",
       "    <tr>\n",
       "      <th>Y(0)</th>\n",
       "      <td>0.486974</td>\n",
       "      <td>0.528942</td>\n",
       "    </tr>\n",
       "    <tr>\n",
       "      <th>Y(1)</th>\n",
       "      <td>0.513026</td>\n",
       "      <td>0.471058</td>\n",
       "    </tr>\n",
       "  </tbody>\n",
       "</table>\n",
       "</div>"
      ],
      "text/plain": [
       "Z         Z(0)      Z(1)\n",
       "Y(0)  0.486974  0.528942\n",
       "Y(1)  0.513026  0.471058"
      ]
     },
     "metadata": {},
     "output_type": "display_data"
    },
    {
     "data": {
      "text/html": [
       "<div>\n",
       "<style scoped>\n",
       "    .dataframe tbody tr th:only-of-type {\n",
       "        vertical-align: middle;\n",
       "    }\n",
       "\n",
       "    .dataframe tbody tr th {\n",
       "        vertical-align: top;\n",
       "    }\n",
       "\n",
       "    .dataframe thead tr th {\n",
       "        text-align: left;\n",
       "    }\n",
       "</style>\n",
       "<table border=\"1\" class=\"dataframe\">\n",
       "  <thead>\n",
       "    <tr>\n",
       "      <th>X</th>\n",
       "      <th>X(0)</th>\n",
       "      <th>X(1)</th>\n",
       "    </tr>\n",
       "  </thead>\n",
       "  <tbody>\n",
       "    <tr>\n",
       "      <th>Z(0)</th>\n",
       "      <td>0.517526</td>\n",
       "      <td>0.481553</td>\n",
       "    </tr>\n",
       "    <tr>\n",
       "      <th>Z(1)</th>\n",
       "      <td>0.482474</td>\n",
       "      <td>0.518447</td>\n",
       "    </tr>\n",
       "  </tbody>\n",
       "</table>\n",
       "</div>"
      ],
      "text/plain": [
       "X         X(0)      X(1)\n",
       "Z(0)  0.517526  0.481553\n",
       "Z(1)  0.482474  0.518447"
      ]
     },
     "metadata": {},
     "output_type": "display_data"
    },
    {
     "data": {
      "image/png": "[encoded data removed]",
      "text/plain": [
       "<Figure size 432x288 with 1 Axes>"
      ]
     },
     "metadata": {},
     "output_type": "display_data"
    },
    {
     "name": "stdout",
     "output_type": "stream",
     "text": [
      "found connected component {'Z'} of node Z\n",
      "C_x: [{'Z'}]\n",
      "found connected component {'Z', 'X'} of node X\n",
      "Line 7\n",
      "Found superset: {'Z', 'X'}\n",
      "Y: frozenset({'Y'})\n",
      "X: frozenset({'X'})\n"
     ]
    },
    {
     "data": {
      "text/html": [
       "<div>\n",
       "<style scoped>\n",
       "    .dataframe tbody tr th:only-of-type {\n",
       "        vertical-align: middle;\n",
       "    }\n",
       "\n",
       "    .dataframe tbody tr th {\n",
       "        vertical-align: top;\n",
       "    }\n",
       "\n",
       "    .dataframe thead th {\n",
       "        text-align: right;\n",
       "    }\n",
       "</style>\n",
       "<table border=\"1\" class=\"dataframe\">\n",
       "  <thead>\n",
       "    <tr style=\"text-align: right;\">\n",
       "      <th></th>\n",
       "      <th>X</th>\n",
       "    </tr>\n",
       "  </thead>\n",
       "  <tbody>\n",
       "    <tr>\n",
       "      <th>X(0)</th>\n",
       "      <td>0.485</td>\n",
       "    </tr>\n",
       "    <tr>\n",
       "      <th>X(1)</th>\n",
       "      <td>0.515</td>\n",
       "    </tr>\n",
       "  </tbody>\n",
       "</table>\n",
       "</div>"
      ],
      "text/plain": [
       "          X\n",
       "X(0)  0.485\n",
       "X(1)  0.515"
      ]
     },
     "metadata": {},
     "output_type": "display_data"
    },
    {
     "data": {
      "text/html": [
       "<div>\n",
       "<style scoped>\n",
       "    .dataframe tbody tr th:only-of-type {\n",
       "        vertical-align: middle;\n",
       "    }\n",
       "\n",
       "    .dataframe tbody tr th {\n",
       "        vertical-align: top;\n",
       "    }\n",
       "\n",
       "    .dataframe thead tr th {\n",
       "        text-align: left;\n",
       "    }\n",
       "</style>\n",
       "<table border=\"1\" class=\"dataframe\">\n",
       "  <thead>\n",
       "    <tr>\n",
       "      <th>X</th>\n",
       "      <th>X(0)</th>\n",
       "      <th>X(1)</th>\n",
       "    </tr>\n",
       "  </thead>\n",
       "  <tbody>\n",
       "    <tr>\n",
       "      <th>Z(0)</th>\n",
       "      <td>0.517526</td>\n",
       "      <td>0.481553</td>\n",
       "    </tr>\n",
       "    <tr>\n",
       "      <th>Z(1)</th>\n",
       "      <td>0.482474</td>\n",
       "      <td>0.518447</td>\n",
       "    </tr>\n",
       "  </tbody>\n",
       "</table>\n",
       "</div>"
      ],
      "text/plain": [
       "X         X(0)      X(1)\n",
       "Z(0)  0.517526  0.481553\n",
       "Z(1)  0.482474  0.518447"
      ]
     },
     "metadata": {},
     "output_type": "display_data"
    },
    {
     "data": {
      "image/png": "[encoded data removed]",
      "text/plain": [
       "<Figure size 432x288 with 1 Axes>"
      ]
     },
     "metadata": {},
     "output_type": "display_data"
    },
    {
     "ename": "ValueError",
     "evalue": "Node Y not in not in graph",
     "output_type": "error",
     "traceback": [
      "\u001b[0;31m---------------------------------------------------------------------------\u001b[0m",
      "\u001b[0;31mValueError\u001b[0m                                Traceback (most recent call last)",
      "\u001b[0;32m<ipython-input-6-feb0e779b833>\u001b[0m in \u001b[0;36m<module>\u001b[0;34m()\u001b[0m\n\u001b[1;32m     12\u001b[0m \u001b[0mP\u001b[0m \u001b[0;34m=\u001b[0m \u001b[0mG\u001b[0m\u001b[0;34m.\u001b[0m\u001b[0mget_cpds\u001b[0m\u001b[0;34m(\u001b[0m\u001b[0;34m)\u001b[0m\u001b[0;34m\u001b[0m\u001b[0m\n\u001b[1;32m     13\u001b[0m \u001b[0;34m\u001b[0m\u001b[0m\n\u001b[0;32m---> 14\u001b[0;31m \u001b[0mID\u001b[0m\u001b[0;34m(\u001b[0m\u001b[0my\u001b[0m\u001b[0;34m,\u001b[0m \u001b[0mx\u001b[0m\u001b[0;34m,\u001b[0m \u001b[0mP\u001b[0m\u001b[0;34m,\u001b[0m \u001b[0mG\u001b[0m\u001b[0;34m,\u001b[0m \u001b[0mU\u001b[0m\u001b[0;34m)\u001b[0m\u001b[0;34m\u001b[0m\u001b[0m\n\u001b[0m",
      "\u001b[0;32m~/Projects/DL/CausalInference/pgmpy_notebook/notebooks/identify.py\u001b[0m in \u001b[0;36mID\u001b[0;34m(y, x, P, G, U)\u001b[0m\n\u001b[1;32m    239\u001b[0m                        \u001b[0mP_prime\u001b[0m\u001b[0;34m,\u001b[0m\u001b[0;34m\u001b[0m\u001b[0m\n\u001b[1;32m    240\u001b[0m                        \u001b[0mG\u001b[0m\u001b[0;34m.\u001b[0m\u001b[0msubgraph\u001b[0m\u001b[0;34m(\u001b[0m \u001b[0mS_prime\u001b[0m \u001b[0;34m)\u001b[0m\u001b[0;34m,\u001b[0m\u001b[0;34m\u001b[0m\u001b[0m\n\u001b[0;32m--> 241\u001b[0;31m                        \u001b[0mU\u001b[0m\u001b[0;34m.\u001b[0m\u001b[0msubgraph\u001b[0m\u001b[0;34m(\u001b[0m \u001b[0mS_prime\u001b[0m \u001b[0;34m)\u001b[0m\u001b[0;34m\u001b[0m\u001b[0m\n\u001b[0m\u001b[1;32m    242\u001b[0m                      )\n\u001b[1;32m    243\u001b[0m         \u001b[0;32melse\u001b[0m\u001b[0;34m:\u001b[0m\u001b[0;34m\u001b[0m\u001b[0m\n",
      "\u001b[0;32m~/Projects/DL/CausalInference/pgmpy_notebook/notebooks/identify.py\u001b[0m in \u001b[0;36mID\u001b[0;34m(y, x, P, G, U)\u001b[0m\n\u001b[1;32m    178\u001b[0m         \u001b[0;32mreturn\u001b[0m \u001b[0msum_product\u001b[0m\u001b[0;34m(\u001b[0m \u001b[0mv\u001b[0m \u001b[0;34m-\u001b[0m \u001b[0my\u001b[0m\u001b[0;34m,\u001b[0m  \u001b[0mP\u001b[0m \u001b[0;34m)\u001b[0m\u001b[0;34m\u001b[0m\u001b[0m\n\u001b[1;32m    179\u001b[0m     \u001b[0;31m# line 2\u001b[0m\u001b[0;34m\u001b[0m\u001b[0;34m\u001b[0m\u001b[0m\n\u001b[0;32m--> 180\u001b[0;31m     \u001b[0mancestors_y\u001b[0m \u001b[0;34m=\u001b[0m \u001b[0mG\u001b[0m\u001b[0;34m.\u001b[0m\u001b[0m_get_ancestors_of\u001b[0m\u001b[0;34m(\u001b[0m \u001b[0mlist\u001b[0m\u001b[0;34m(\u001b[0m\u001b[0my\u001b[0m\u001b[0;34m)\u001b[0m \u001b[0;34m)\u001b[0m\u001b[0;34m\u001b[0m\u001b[0m\n\u001b[0m\u001b[1;32m    181\u001b[0m     \u001b[0;32mif\u001b[0m \u001b[0mlen\u001b[0m\u001b[0;34m(\u001b[0m\u001b[0mv\u001b[0m \u001b[0;34m-\u001b[0m \u001b[0mancestors_y\u001b[0m\u001b[0;34m)\u001b[0m \u001b[0;34m>\u001b[0m \u001b[0;36m0\u001b[0m\u001b[0;34m:\u001b[0m\u001b[0;34m\u001b[0m\u001b[0m\n\u001b[1;32m    182\u001b[0m         \u001b[0mprint\u001b[0m\u001b[0;34m(\u001b[0m\u001b[0;34m'Line 2'\u001b[0m\u001b[0;34m)\u001b[0m\u001b[0;34m\u001b[0m\u001b[0m\n",
      "\u001b[0;32m~/.pyenv/versions/miniconda3-latest/envs/causality/lib/python3.6/site-packages/pgmpy/base/DAG.py\u001b[0m in \u001b[0;36m_get_ancestors_of\u001b[0;34m(self, obs_nodes_list)\u001b[0m\n\u001b[1;32m    662\u001b[0m         \u001b[0;32mfor\u001b[0m \u001b[0mnode\u001b[0m \u001b[0;32min\u001b[0m \u001b[0mobs_nodes_list\u001b[0m\u001b[0;34m:\u001b[0m\u001b[0;34m\u001b[0m\u001b[0m\n\u001b[1;32m    663\u001b[0m             \u001b[0;32mif\u001b[0m \u001b[0mnode\u001b[0m \u001b[0;32mnot\u001b[0m \u001b[0;32min\u001b[0m \u001b[0mself\u001b[0m\u001b[0;34m.\u001b[0m\u001b[0mnodes\u001b[0m\u001b[0;34m(\u001b[0m\u001b[0;34m)\u001b[0m\u001b[0;34m:\u001b[0m\u001b[0;34m\u001b[0m\u001b[0m\n\u001b[0;32m--> 664\u001b[0;31m                 \u001b[0;32mraise\u001b[0m \u001b[0mValueError\u001b[0m\u001b[0;34m(\u001b[0m\u001b[0;34m'Node {s} not in not in graph'\u001b[0m\u001b[0;34m.\u001b[0m\u001b[0mformat\u001b[0m\u001b[0;34m(\u001b[0m\u001b[0ms\u001b[0m\u001b[0;34m=\u001b[0m\u001b[0mnode\u001b[0m\u001b[0;34m)\u001b[0m\u001b[0;34m)\u001b[0m\u001b[0;34m\u001b[0m\u001b[0m\n\u001b[0m\u001b[1;32m    665\u001b[0m \u001b[0;34m\u001b[0m\u001b[0m\n\u001b[1;32m    666\u001b[0m         \u001b[0mancestors_list\u001b[0m \u001b[0;34m=\u001b[0m \u001b[0mset\u001b[0m\u001b[0;34m(\u001b[0m\u001b[0;34m)\u001b[0m\u001b[0;34m\u001b[0m\u001b[0m\n",
      "\u001b[0;31mValueError\u001b[0m: Node Y not in not in graph"
     ]
    }
   ],
   "source": [
    "U = figure_1b['U']\n",
    "G = figure_1b['G']\n",
    "x, y = frozenset({'X'}), frozenset({'Y'})\n",
    "\n",
    "data = pd.DataFrame(np.random.randint(low=0, high=2, size=(1000,len(G.nodes))),\n",
    "                   columns=list(G.nodes))\n",
    "\n",
    "G.fit(data)\n",
    "G.check_model()\n",
    "\n",
    "\n",
    "P = G.get_cpds()\n",
    "\n",
    "ID(y, x, P, G, U)"
   ]
  },
  {
   "cell_type": "code",
   "execution_count": 35,
   "metadata": {
    "ExecuteTime": {
     "end_time": "2019-04-23T17:51:50.797604Z",
     "start_time": "2019-04-23T17:51:50.547991Z"
    }
   },
   "outputs": [
    {
     "name": "stderr",
     "output_type": "stream",
     "text": [
      "WARNING:root:Replacing existing CPD for X\n",
      "WARNING:root:Replacing existing CPD for Y\n"
     ]
    },
    {
     "name": "stdout",
     "output_type": "stream",
     "text": [
      "Y: frozenset({'Y'})\n",
      "X: frozenset({'X'})\n"
     ]
    },
    {
     "data": {
      "text/html": [
       "<div>\n",
       "<style scoped>\n",
       "    .dataframe tbody tr th:only-of-type {\n",
       "        vertical-align: middle;\n",
       "    }\n",
       "\n",
       "    .dataframe tbody tr th {\n",
       "        vertical-align: top;\n",
       "    }\n",
       "\n",
       "    .dataframe thead th {\n",
       "        text-align: right;\n",
       "    }\n",
       "</style>\n",
       "<table border=\"1\" class=\"dataframe\">\n",
       "  <thead>\n",
       "    <tr style=\"text-align: right;\">\n",
       "      <th></th>\n",
       "      <th>X</th>\n",
       "    </tr>\n",
       "  </thead>\n",
       "  <tbody>\n",
       "    <tr>\n",
       "      <th>X(0)</th>\n",
       "      <td>0.502</td>\n",
       "    </tr>\n",
       "    <tr>\n",
       "      <th>X(1)</th>\n",
       "      <td>0.498</td>\n",
       "    </tr>\n",
       "  </tbody>\n",
       "</table>\n",
       "</div>"
      ],
      "text/plain": [
       "          X\n",
       "X(0)  0.502\n",
       "X(1)  0.498"
      ]
     },
     "metadata": {},
     "output_type": "display_data"
    },
    {
     "data": {
      "text/html": [
       "<div>\n",
       "<style scoped>\n",
       "    .dataframe tbody tr th:only-of-type {\n",
       "        vertical-align: middle;\n",
       "    }\n",
       "\n",
       "    .dataframe tbody tr th {\n",
       "        vertical-align: top;\n",
       "    }\n",
       "\n",
       "    .dataframe thead tr th {\n",
       "        text-align: left;\n",
       "    }\n",
       "</style>\n",
       "<table border=\"1\" class=\"dataframe\">\n",
       "  <thead>\n",
       "    <tr>\n",
       "      <th>X</th>\n",
       "      <th>X(0)</th>\n",
       "      <th>X(1)</th>\n",
       "    </tr>\n",
       "  </thead>\n",
       "  <tbody>\n",
       "    <tr>\n",
       "      <th>Y(0)</th>\n",
       "      <td>0.525896</td>\n",
       "      <td>0.493976</td>\n",
       "    </tr>\n",
       "    <tr>\n",
       "      <th>Y(1)</th>\n",
       "      <td>0.474104</td>\n",
       "      <td>0.506024</td>\n",
       "    </tr>\n",
       "  </tbody>\n",
       "</table>\n",
       "</div>"
      ],
      "text/plain": [
       "X         X(0)      X(1)\n",
       "Y(0)  0.525896  0.493976\n",
       "Y(1)  0.474104  0.506024"
      ]
     },
     "metadata": {},
     "output_type": "display_data"
    },
    {
     "data": {
      "image/png": "[encoded data removed]",
      "text/plain": [
       "<Figure size 432x288 with 1 Axes>"
      ]
     },
     "metadata": {},
     "output_type": "display_data"
    },
    {
     "name": "stdout",
     "output_type": "stream",
     "text": [
      "found connected component {'Y'} of node Y\n",
      "C_x: [{'Y'}]\n",
      "found connected component {'Y', 'X'} of node X\n",
      "Line 5\n"
     ]
    },
    {
     "ename": "Fail",
     "evalue": "C_components_of_U [{'Y', 'X'}] and C_components_of_U_x [{'Y'}] form a hedge",
     "output_type": "error",
     "traceback": [
      "\u001b[0;31m---------------------------------------------------------------------------\u001b[0m",
      "\u001b[0;31mFail\u001b[0m                                      Traceback (most recent call last)",
      "\u001b[0;32m<ipython-input-35-940949b26217>\u001b[0m in \u001b[0;36m<module>\u001b[0;34m()\u001b[0m\n\u001b[1;32m     12\u001b[0m \u001b[0mP\u001b[0m \u001b[0;34m=\u001b[0m \u001b[0mD\u001b[0m\u001b[0;34m.\u001b[0m\u001b[0mget_cpds\u001b[0m\u001b[0;34m(\u001b[0m\u001b[0;34m)\u001b[0m\u001b[0;34m\u001b[0m\u001b[0m\n\u001b[1;32m     13\u001b[0m \u001b[0;34m\u001b[0m\u001b[0m\n\u001b[0;32m---> 14\u001b[0;31m \u001b[0mID\u001b[0m\u001b[0;34m(\u001b[0m\u001b[0my\u001b[0m\u001b[0;34m,\u001b[0m \u001b[0mx\u001b[0m\u001b[0;34m,\u001b[0m \u001b[0mP\u001b[0m\u001b[0;34m,\u001b[0m \u001b[0mG\u001b[0m\u001b[0;34m,\u001b[0m \u001b[0mU\u001b[0m\u001b[0;34m)\u001b[0m\u001b[0;34m\u001b[0m\u001b[0m\n\u001b[0m",
      "\u001b[0;32m~/Projects/DL/CausalInference/pgmpy_notebook/notebooks/identify.py\u001b[0m in \u001b[0;36mID\u001b[0;34m(y, x, P, G, U)\u001b[0m\n\u001b[1;32m    216\u001b[0m             raise Fail( \n\u001b[1;32m    217\u001b[0m                 \"C_components_of_U {} and C_components_of_U_x {} form a hedge\".format(\n\u001b[0;32m--> 218\u001b[0;31m                     C_components_of_U, C_components_of_U_x ))\n\u001b[0m\u001b[1;32m    219\u001b[0m         \u001b[0;31m# line 6\u001b[0m\u001b[0;34m\u001b[0m\u001b[0;34m\u001b[0m\u001b[0m\n\u001b[1;32m    220\u001b[0m         \u001b[0mpi\u001b[0m \u001b[0;34m=\u001b[0m \u001b[0mnx\u001b[0m\u001b[0;34m.\u001b[0m\u001b[0mtopological_sort\u001b[0m\u001b[0;34m(\u001b[0m \u001b[0mG\u001b[0m \u001b[0;34m)\u001b[0m\u001b[0;34m\u001b[0m\u001b[0m\n",
      "\u001b[0;31mFail\u001b[0m: C_components_of_U [{'Y', 'X'}] and C_components_of_U_x [{'Y'}] form a hedge"
     ]
    }
   ],
   "source": [
    "U = figure_1a['U']\n",
    "G = figure_1a['G']\n",
    "x, y = frozenset({'X'}), frozenset({'Y'})\n",
    "\n",
    "data = pd.DataFrame(np.random.randint(low=0, high=2, size=(1000,len(G.nodes))),\n",
    "                   columns=list(G.nodes))\n",
    "\n",
    "G.fit(data)\n",
    "G.check_model()\n",
    "\n",
    "\n",
    "P = D.get_cpds()\n",
    "\n",
    "ID(y, x, P, G, U)"
   ]
  },
  {
   "cell_type": "markdown",
   "metadata": {},
   "source": [
    "## Figure 1c"
   ]
  },
  {
   "cell_type": "code",
   "execution_count": 34,
   "metadata": {
    "ExecuteTime": {
     "end_time": "2019-04-23T17:51:17.429645Z",
     "start_time": "2019-04-23T17:51:17.254167Z"
    },
    "scrolled": true
   },
   "outputs": [
    {
     "data": {
      "image/png": "[encoded data removed]",
      "text/plain": [
       "<Figure size 432x288 with 1 Axes>"
      ]
     },
     "metadata": {},
     "output_type": "display_data"
    }
   ],
   "source": [
    "figure_1c = dict(G=DAG([('X','Z'),\n",
    "                        ('X','Y'),\n",
    "                        ('Y','Z')]),\n",
    "                 U=DAG([('X', 'Z')]))\n",
    "draw_graph(**figure_1c)"
   ]
  },
  {
   "cell_type": "code",
   "execution_count": null,
   "metadata": {},
   "outputs": [],
   "source": []
  },
  {
   "cell_type": "markdown",
   "metadata": {},
   "source": [
    "## Figure 1d"
   ]
  },
  {
   "cell_type": "code",
   "execution_count": 57,
   "metadata": {
    "ExecuteTime": {
     "end_time": "2019-04-22T01:54:02.973796Z",
     "start_time": "2019-04-22T01:54:02.786148Z"
    }
   },
   "outputs": [
    {
     "data": {
      "image/png": "[encoded data removed]",
      "text/plain": [
       "<Figure size 432x288 with 1 Axes>"
      ]
     },
     "metadata": {},
     "output_type": "display_data"
    }
   ],
   "source": [
    "figure_1d = dict(G=DAG([('X','Y'),\n",
    "                        ('Z','Y')]),\n",
    "                 U=DAG([('X', 'Z'),\n",
    "                       ('Y', 'Z')]))\n",
    "draw_graph(**figure_1d)"
   ]
  },
  {
   "cell_type": "markdown",
   "metadata": {},
   "source": [
    "## Figure 1e"
   ]
  },
  {
   "cell_type": "code",
   "execution_count": 58,
   "metadata": {
    "ExecuteTime": {
     "end_time": "2019-04-22T01:55:33.916093Z",
     "start_time": "2019-04-22T01:55:33.736131Z"
    }
   },
   "outputs": [
    {
     "data": {
      "image/png": "[encoded data removed]",
      "text/plain": [
       "<Figure size 432x288 with 1 Axes>"
      ]
     },
     "metadata": {},
     "output_type": "display_data"
    }
   ],
   "source": [
    "figure_1e = dict(G=DAG([('Z','X'),\n",
    "                        ('X','Y')]),\n",
    "                 U=DAG([('X', 'Z'),\n",
    "                       ('Y', 'Z')]))\n",
    "draw_graph(**figure_1e)"
   ]
  },
  {
   "cell_type": "markdown",
   "metadata": {},
   "source": [
    "## Figure 1f"
   ]
  },
  {
   "cell_type": "code",
   "execution_count": 60,
   "metadata": {
    "ExecuteTime": {
     "end_time": "2019-04-22T02:00:21.164691Z",
     "start_time": "2019-04-22T02:00:20.970050Z"
    }
   },
   "outputs": [
    {
     "data": {
      "image/png": "[encoded data removed]",
      "text/plain": [
       "<Figure size 432x288 with 1 Axes>"
      ]
     },
     "metadata": {},
     "output_type": "display_data"
    }
   ],
   "source": [
    "figure_1f = dict(G=DAG([('X','Z'),\n",
    "                        ('Z','Y')]),\n",
    "                 U=DAG([('X', 'Y'),\n",
    "                       ('Y', 'Z')]))\n",
    "draw_graph(**figure_1f)"
   ]
  },
  {
   "cell_type": "markdown",
   "metadata": {},
   "source": [
    "## Figure 1g"
   ]
  },
  {
   "cell_type": "code",
   "execution_count": 61,
   "metadata": {
    "ExecuteTime": {
     "end_time": "2019-04-22T02:00:21.164691Z",
     "start_time": "2019-04-22T02:00:20.970050Z"
    }
   },
   "outputs": [
    {
     "data": {
      "image/png": "[encoded data removed]",
      "text/plain": [
       "<Figure size 432x288 with 1 Axes>"
      ]
     },
     "metadata": {},
     "output_type": "display_data"
    }
   ],
   "source": [
    "figure_1g = dict(G=DAG([('X','Z1'),\n",
    "                        ('Z2','Y'),\n",
    "                        ('Z1', 'Y')]),\n",
    "                 U=DAG([('X', 'Z2'),\n",
    "                       ('Z1', 'Z2')]))\n",
    "draw_graph(**figure_1g)"
   ]
  },
  {
   "cell_type": "markdown",
   "metadata": {},
   "source": [
    "## Figure 1h"
   ]
  },
  {
   "cell_type": "code",
   "execution_count": 62,
   "metadata": {
    "ExecuteTime": {
     "end_time": "2019-04-22T02:00:21.164691Z",
     "start_time": "2019-04-22T02:00:20.970050Z"
    }
   },
   "outputs": [
    {
     "data": {
      "image/png": "[encoded data removed]",
      "text/plain": [
       "<Figure size 432x288 with 1 Axes>"
      ]
     },
     "metadata": {},
     "output_type": "display_data"
    }
   ],
   "source": [
    "figure_1h = dict(G=DAG([('Z','X'),\n",
    "                        ('X','W'),\n",
    "                        ('W', 'Y')]),\n",
    "                 U=DAG([('X', 'Z'),\n",
    "                       ('X', 'Y'),\n",
    "                       ('Z', 'W'),\n",
    "                       ('Z', 'Y')]))\n",
    "draw_graph(**figure_1h)"
   ]
  },
  {
   "cell_type": "markdown",
   "metadata": {},
   "source": [
    "# Figure 2: Causal graphs admitting identifiable effect $P(y|do(x))$\n",
    "\n",
    "## Figure 2a"
   ]
  },
  {
   "cell_type": "code",
   "execution_count": null,
   "metadata": {},
   "outputs": [],
   "source": [
    "figure_2a = "
   ]
  },
  {
   "cell_type": "code",
   "execution_count": 5,
   "metadata": {
    "ExecuteTime": {
     "end_time": "2019-04-21T08:25:33.801104Z",
     "start_time": "2019-04-21T08:25:33.716398Z"
    }
   },
   "outputs": [],
   "source": [
    "D = BayesianModel([('W1','X'),\n",
    "                   ('X','Y1'),\n",
    "                   ('W2','Y2')])\n",
    "\n",
    "U = nx.Graph([('W1','Y1'),\n",
    "             ('W1','W2'),\n",
    "             ('W2','X'),\n",
    "             ('W1','Y2'),\n",
    "             #('W2', 'Y2')\n",
    "             ])\n",
    "\n",
    "data = pd.DataFrame(np.random.randint(low=0, high=2, size=(1000,5)),\n",
    "                   columns=['X','Y1','Y2','W1','W2'])\n",
    "\n",
    "D.fit(data)\n",
    "D.get_cpds()\n",
    "D.check_model()\n",
    "\n",
    "y = frozenset(['Y1', 'Y2'])\n",
    "x = frozenset(['X'])\n",
    "P = D.get_cpds()\n",
    "G = DAG(D.edges)\n"
   ]
  },
  {
   "cell_type": "code",
   "execution_count": 14,
   "metadata": {
    "ExecuteTime": {
     "end_time": "2019-04-21T08:28:40.369114Z",
     "start_time": "2019-04-21T08:28:38.807888Z"
    },
    "scrolled": false
   },
   "outputs": [
    {
     "name": "stdout",
     "output_type": "stream",
     "text": [
      "Y: frozenset({'Y2', 'Y1'})\n",
      "X: frozenset({'X'})\n"
     ]
    },
    {
     "data": {
      "text/html": [
       "<div>\n",
       "<style scoped>\n",
       "    .dataframe tbody tr th:only-of-type {\n",
       "        vertical-align: middle;\n",
       "    }\n",
       "\n",
       "    .dataframe tbody tr th {\n",
       "        vertical-align: top;\n",
       "    }\n",
       "\n",
       "    .dataframe thead th {\n",
       "        text-align: right;\n",
       "    }\n",
       "</style>\n",
       "<table border=\"1\" class=\"dataframe\">\n",
       "  <thead>\n",
       "    <tr style=\"text-align: right;\">\n",
       "      <th></th>\n",
       "      <th>W1</th>\n",
       "    </tr>\n",
       "  </thead>\n",
       "  <tbody>\n",
       "    <tr>\n",
       "      <th>W1(0)</th>\n",
       "      <td>0.515</td>\n",
       "    </tr>\n",
       "    <tr>\n",
       "      <th>W1(1)</th>\n",
       "      <td>0.485</td>\n",
       "    </tr>\n",
       "  </tbody>\n",
       "</table>\n",
       "</div>"
      ],
      "text/plain": [
       "          W1\n",
       "W1(0)  0.515\n",
       "W1(1)  0.485"
      ]
     },
     "metadata": {},
     "output_type": "display_data"
    },
    {
     "data": {
      "text/html": [
       "<div>\n",
       "<style scoped>\n",
       "    .dataframe tbody tr th:only-of-type {\n",
       "        vertical-align: middle;\n",
       "    }\n",
       "\n",
       "    .dataframe tbody tr th {\n",
       "        vertical-align: top;\n",
       "    }\n",
       "\n",
       "    .dataframe thead th {\n",
       "        text-align: right;\n",
       "    }\n",
       "</style>\n",
       "<table border=\"1\" class=\"dataframe\">\n",
       "  <thead>\n",
       "    <tr style=\"text-align: right;\">\n",
       "      <th></th>\n",
       "      <th>W2</th>\n",
       "    </tr>\n",
       "  </thead>\n",
       "  <tbody>\n",
       "    <tr>\n",
       "      <th>W2(0)</th>\n",
       "      <td>0.497</td>\n",
       "    </tr>\n",
       "    <tr>\n",
       "      <th>W2(1)</th>\n",
       "      <td>0.503</td>\n",
       "    </tr>\n",
       "  </tbody>\n",
       "</table>\n",
       "</div>"
      ],
      "text/plain": [
       "          W2\n",
       "W2(0)  0.497\n",
       "W2(1)  0.503"
      ]
     },
     "metadata": {},
     "output_type": "display_data"
    },
    {
     "data": {
      "text/html": [
       "<div>\n",
       "<style scoped>\n",
       "    .dataframe tbody tr th:only-of-type {\n",
       "        vertical-align: middle;\n",
       "    }\n",
       "\n",
       "    .dataframe tbody tr th {\n",
       "        vertical-align: top;\n",
       "    }\n",
       "\n",
       "    .dataframe thead tr th {\n",
       "        text-align: left;\n",
       "    }\n",
       "</style>\n",
       "<table border=\"1\" class=\"dataframe\">\n",
       "  <thead>\n",
       "    <tr>\n",
       "      <th>W1</th>\n",
       "      <th>W1(0)</th>\n",
       "      <th>W1(1)</th>\n",
       "    </tr>\n",
       "  </thead>\n",
       "  <tbody>\n",
       "    <tr>\n",
       "      <th>X(0)</th>\n",
       "      <td>0.473786</td>\n",
       "      <td>0.513402</td>\n",
       "    </tr>\n",
       "    <tr>\n",
       "      <th>X(1)</th>\n",
       "      <td>0.526214</td>\n",
       "      <td>0.486598</td>\n",
       "    </tr>\n",
       "  </tbody>\n",
       "</table>\n",
       "</div>"
      ],
      "text/plain": [
       "W1       W1(0)     W1(1)\n",
       "X(0)  0.473786  0.513402\n",
       "X(1)  0.526214  0.486598"
      ]
     },
     "metadata": {},
     "output_type": "display_data"
    },
    {
     "data": {
      "text/html": [
       "<div>\n",
       "<style scoped>\n",
       "    .dataframe tbody tr th:only-of-type {\n",
       "        vertical-align: middle;\n",
       "    }\n",
       "\n",
       "    .dataframe tbody tr th {\n",
       "        vertical-align: top;\n",
       "    }\n",
       "\n",
       "    .dataframe thead tr th {\n",
       "        text-align: left;\n",
       "    }\n",
       "</style>\n",
       "<table border=\"1\" class=\"dataframe\">\n",
       "  <thead>\n",
       "    <tr>\n",
       "      <th>X</th>\n",
       "      <th>X(0)</th>\n",
       "      <th>X(1)</th>\n",
       "    </tr>\n",
       "  </thead>\n",
       "  <tbody>\n",
       "    <tr>\n",
       "      <th>Y1(0)</th>\n",
       "      <td>0.503043</td>\n",
       "      <td>0.544379</td>\n",
       "    </tr>\n",
       "    <tr>\n",
       "      <th>Y1(1)</th>\n",
       "      <td>0.496957</td>\n",
       "      <td>0.455621</td>\n",
       "    </tr>\n",
       "  </tbody>\n",
       "</table>\n",
       "</div>"
      ],
      "text/plain": [
       "X          X(0)      X(1)\n",
       "Y1(0)  0.503043  0.544379\n",
       "Y1(1)  0.496957  0.455621"
      ]
     },
     "metadata": {},
     "output_type": "display_data"
    },
    {
     "data": {
      "text/html": [
       "<div>\n",
       "<style scoped>\n",
       "    .dataframe tbody tr th:only-of-type {\n",
       "        vertical-align: middle;\n",
       "    }\n",
       "\n",
       "    .dataframe tbody tr th {\n",
       "        vertical-align: top;\n",
       "    }\n",
       "\n",
       "    .dataframe thead tr th {\n",
       "        text-align: left;\n",
       "    }\n",
       "</style>\n",
       "<table border=\"1\" class=\"dataframe\">\n",
       "  <thead>\n",
       "    <tr>\n",
       "      <th>W2</th>\n",
       "      <th>W2(0)</th>\n",
       "      <th>W2(1)</th>\n",
       "    </tr>\n",
       "  </thead>\n",
       "  <tbody>\n",
       "    <tr>\n",
       "      <th>Y2(0)</th>\n",
       "      <td>0.527163</td>\n",
       "      <td>0.471173</td>\n",
       "    </tr>\n",
       "    <tr>\n",
       "      <th>Y2(1)</th>\n",
       "      <td>0.472837</td>\n",
       "      <td>0.528827</td>\n",
       "    </tr>\n",
       "  </tbody>\n",
       "</table>\n",
       "</div>"
      ],
      "text/plain": [
       "W2        W2(0)     W2(1)\n",
       "Y2(0)  0.527163  0.471173\n",
       "Y2(1)  0.472837  0.528827"
      ]
     },
     "metadata": {},
     "output_type": "display_data"
    },
    {
     "data": {
      "image/png": "[encoded data removed]",
      "text/plain": [
       "<Figure size 432x288 with 1 Axes>"
      ]
     },
     "metadata": {},
     "output_type": "display_data"
    },
    {
     "name": "stdout",
     "output_type": "stream",
     "text": [
      "Line 3\n",
      "Y: frozenset({'Y2', 'Y1'})\n",
      "X: frozenset({'X', 'W1'})\n"
     ]
    },
    {
     "data": {
      "text/html": [
       "<div>\n",
       "<style scoped>\n",
       "    .dataframe tbody tr th:only-of-type {\n",
       "        vertical-align: middle;\n",
       "    }\n",
       "\n",
       "    .dataframe tbody tr th {\n",
       "        vertical-align: top;\n",
       "    }\n",
       "\n",
       "    .dataframe thead th {\n",
       "        text-align: right;\n",
       "    }\n",
       "</style>\n",
       "<table border=\"1\" class=\"dataframe\">\n",
       "  <thead>\n",
       "    <tr style=\"text-align: right;\">\n",
       "      <th></th>\n",
       "      <th>W1</th>\n",
       "    </tr>\n",
       "  </thead>\n",
       "  <tbody>\n",
       "    <tr>\n",
       "      <th>W1(0)</th>\n",
       "      <td>0.515</td>\n",
       "    </tr>\n",
       "    <tr>\n",
       "      <th>W1(1)</th>\n",
       "      <td>0.485</td>\n",
       "    </tr>\n",
       "  </tbody>\n",
       "</table>\n",
       "</div>"
      ],
      "text/plain": [
       "          W1\n",
       "W1(0)  0.515\n",
       "W1(1)  0.485"
      ]
     },
     "metadata": {},
     "output_type": "display_data"
    },
    {
     "data": {
      "text/html": [
       "<div>\n",
       "<style scoped>\n",
       "    .dataframe tbody tr th:only-of-type {\n",
       "        vertical-align: middle;\n",
       "    }\n",
       "\n",
       "    .dataframe tbody tr th {\n",
       "        vertical-align: top;\n",
       "    }\n",
       "\n",
       "    .dataframe thead th {\n",
       "        text-align: right;\n",
       "    }\n",
       "</style>\n",
       "<table border=\"1\" class=\"dataframe\">\n",
       "  <thead>\n",
       "    <tr style=\"text-align: right;\">\n",
       "      <th></th>\n",
       "      <th>W2</th>\n",
       "    </tr>\n",
       "  </thead>\n",
       "  <tbody>\n",
       "    <tr>\n",
       "      <th>W2(0)</th>\n",
       "      <td>0.497</td>\n",
       "    </tr>\n",
       "    <tr>\n",
       "      <th>W2(1)</th>\n",
       "      <td>0.503</td>\n",
       "    </tr>\n",
       "  </tbody>\n",
       "</table>\n",
       "</div>"
      ],
      "text/plain": [
       "          W2\n",
       "W2(0)  0.497\n",
       "W2(1)  0.503"
      ]
     },
     "metadata": {},
     "output_type": "display_data"
    },
    {
     "data": {
      "text/html": [
       "<div>\n",
       "<style scoped>\n",
       "    .dataframe tbody tr th:only-of-type {\n",
       "        vertical-align: middle;\n",
       "    }\n",
       "\n",
       "    .dataframe tbody tr th {\n",
       "        vertical-align: top;\n",
       "    }\n",
       "\n",
       "    .dataframe thead tr th {\n",
       "        text-align: left;\n",
       "    }\n",
       "</style>\n",
       "<table border=\"1\" class=\"dataframe\">\n",
       "  <thead>\n",
       "    <tr>\n",
       "      <th>W1</th>\n",
       "      <th>W1(0)</th>\n",
       "      <th>W1(1)</th>\n",
       "    </tr>\n",
       "  </thead>\n",
       "  <tbody>\n",
       "    <tr>\n",
       "      <th>X(0)</th>\n",
       "      <td>0.473786</td>\n",
       "      <td>0.513402</td>\n",
       "    </tr>\n",
       "    <tr>\n",
       "      <th>X(1)</th>\n",
       "      <td>0.526214</td>\n",
       "      <td>0.486598</td>\n",
       "    </tr>\n",
       "  </tbody>\n",
       "</table>\n",
       "</div>"
      ],
      "text/plain": [
       "W1       W1(0)     W1(1)\n",
       "X(0)  0.473786  0.513402\n",
       "X(1)  0.526214  0.486598"
      ]
     },
     "metadata": {},
     "output_type": "display_data"
    },
    {
     "data": {
      "text/html": [
       "<div>\n",
       "<style scoped>\n",
       "    .dataframe tbody tr th:only-of-type {\n",
       "        vertical-align: middle;\n",
       "    }\n",
       "\n",
       "    .dataframe tbody tr th {\n",
       "        vertical-align: top;\n",
       "    }\n",
       "\n",
       "    .dataframe thead tr th {\n",
       "        text-align: left;\n",
       "    }\n",
       "</style>\n",
       "<table border=\"1\" class=\"dataframe\">\n",
       "  <thead>\n",
       "    <tr>\n",
       "      <th>X</th>\n",
       "      <th>X(0)</th>\n",
       "      <th>X(1)</th>\n",
       "    </tr>\n",
       "  </thead>\n",
       "  <tbody>\n",
       "    <tr>\n",
       "      <th>Y1(0)</th>\n",
       "      <td>0.503043</td>\n",
       "      <td>0.544379</td>\n",
       "    </tr>\n",
       "    <tr>\n",
       "      <th>Y1(1)</th>\n",
       "      <td>0.496957</td>\n",
       "      <td>0.455621</td>\n",
       "    </tr>\n",
       "  </tbody>\n",
       "</table>\n",
       "</div>"
      ],
      "text/plain": [
       "X          X(0)      X(1)\n",
       "Y1(0)  0.503043  0.544379\n",
       "Y1(1)  0.496957  0.455621"
      ]
     },
     "metadata": {},
     "output_type": "display_data"
    },
    {
     "data": {
      "text/html": [
       "<div>\n",
       "<style scoped>\n",
       "    .dataframe tbody tr th:only-of-type {\n",
       "        vertical-align: middle;\n",
       "    }\n",
       "\n",
       "    .dataframe tbody tr th {\n",
       "        vertical-align: top;\n",
       "    }\n",
       "\n",
       "    .dataframe thead tr th {\n",
       "        text-align: left;\n",
       "    }\n",
       "</style>\n",
       "<table border=\"1\" class=\"dataframe\">\n",
       "  <thead>\n",
       "    <tr>\n",
       "      <th>W2</th>\n",
       "      <th>W2(0)</th>\n",
       "      <th>W2(1)</th>\n",
       "    </tr>\n",
       "  </thead>\n",
       "  <tbody>\n",
       "    <tr>\n",
       "      <th>Y2(0)</th>\n",
       "      <td>0.527163</td>\n",
       "      <td>0.471173</td>\n",
       "    </tr>\n",
       "    <tr>\n",
       "      <th>Y2(1)</th>\n",
       "      <td>0.472837</td>\n",
       "      <td>0.528827</td>\n",
       "    </tr>\n",
       "  </tbody>\n",
       "</table>\n",
       "</div>"
      ],
      "text/plain": [
       "W2        W2(0)     W2(1)\n",
       "Y2(0)  0.527163  0.471173\n",
       "Y2(1)  0.472837  0.528827"
      ]
     },
     "metadata": {},
     "output_type": "display_data"
    },
    {
     "data": {
      "image/png": "[encoded data removed]",
      "text/plain": [
       "<Figure size 432x288 with 1 Axes>"
      ]
     },
     "metadata": {},
     "output_type": "display_data"
    },
    {
     "name": "stdout",
     "output_type": "stream",
     "text": [
      "found connected component {'Y1'} of node Y1\n",
      "found connected component {'Y2'} of node Y2\n",
      "found connected component {'W2'} of node W2\n",
      "C_x: [{'Y1'}, {'Y2'}, {'W2'}]\n",
      "Line 4\n",
      "Y: {'Y1'}\n",
      "X: {'Y2', 'W1', 'W2', 'X'}\n"
     ]
    },
    {
     "data": {
      "text/html": [
       "<div>\n",
       "<style scoped>\n",
       "    .dataframe tbody tr th:only-of-type {\n",
       "        vertical-align: middle;\n",
       "    }\n",
       "\n",
       "    .dataframe tbody tr th {\n",
       "        vertical-align: top;\n",
       "    }\n",
       "\n",
       "    .dataframe thead th {\n",
       "        text-align: right;\n",
       "    }\n",
       "</style>\n",
       "<table border=\"1\" class=\"dataframe\">\n",
       "  <thead>\n",
       "    <tr style=\"text-align: right;\">\n",
       "      <th></th>\n",
       "      <th>W1</th>\n",
       "    </tr>\n",
       "  </thead>\n",
       "  <tbody>\n",
       "    <tr>\n",
       "      <th>W1(0)</th>\n",
       "      <td>0.515</td>\n",
       "    </tr>\n",
       "    <tr>\n",
       "      <th>W1(1)</th>\n",
       "      <td>0.485</td>\n",
       "    </tr>\n",
       "  </tbody>\n",
       "</table>\n",
       "</div>"
      ],
      "text/plain": [
       "          W1\n",
       "W1(0)  0.515\n",
       "W1(1)  0.485"
      ]
     },
     "metadata": {},
     "output_type": "display_data"
    },
    {
     "data": {
      "text/html": [
       "<div>\n",
       "<style scoped>\n",
       "    .dataframe tbody tr th:only-of-type {\n",
       "        vertical-align: middle;\n",
       "    }\n",
       "\n",
       "    .dataframe tbody tr th {\n",
       "        vertical-align: top;\n",
       "    }\n",
       "\n",
       "    .dataframe thead th {\n",
       "        text-align: right;\n",
       "    }\n",
       "</style>\n",
       "<table border=\"1\" class=\"dataframe\">\n",
       "  <thead>\n",
       "    <tr style=\"text-align: right;\">\n",
       "      <th></th>\n",
       "      <th>W2</th>\n",
       "    </tr>\n",
       "  </thead>\n",
       "  <tbody>\n",
       "    <tr>\n",
       "      <th>W2(0)</th>\n",
       "      <td>0.497</td>\n",
       "    </tr>\n",
       "    <tr>\n",
       "      <th>W2(1)</th>\n",
       "      <td>0.503</td>\n",
       "    </tr>\n",
       "  </tbody>\n",
       "</table>\n",
       "</div>"
      ],
      "text/plain": [
       "          W2\n",
       "W2(0)  0.497\n",
       "W2(1)  0.503"
      ]
     },
     "metadata": {},
     "output_type": "display_data"
    },
    {
     "data": {
      "text/html": [
       "<div>\n",
       "<style scoped>\n",
       "    .dataframe tbody tr th:only-of-type {\n",
       "        vertical-align: middle;\n",
       "    }\n",
       "\n",
       "    .dataframe tbody tr th {\n",
       "        vertical-align: top;\n",
       "    }\n",
       "\n",
       "    .dataframe thead tr th {\n",
       "        text-align: left;\n",
       "    }\n",
       "</style>\n",
       "<table border=\"1\" class=\"dataframe\">\n",
       "  <thead>\n",
       "    <tr>\n",
       "      <th>W1</th>\n",
       "      <th>W1(0)</th>\n",
       "      <th>W1(1)</th>\n",
       "    </tr>\n",
       "  </thead>\n",
       "  <tbody>\n",
       "    <tr>\n",
       "      <th>X(0)</th>\n",
       "      <td>0.473786</td>\n",
       "      <td>0.513402</td>\n",
       "    </tr>\n",
       "    <tr>\n",
       "      <th>X(1)</th>\n",
       "      <td>0.526214</td>\n",
       "      <td>0.486598</td>\n",
       "    </tr>\n",
       "  </tbody>\n",
       "</table>\n",
       "</div>"
      ],
      "text/plain": [
       "W1       W1(0)     W1(1)\n",
       "X(0)  0.473786  0.513402\n",
       "X(1)  0.526214  0.486598"
      ]
     },
     "metadata": {},
     "output_type": "display_data"
    },
    {
     "data": {
      "text/html": [
       "<div>\n",
       "<style scoped>\n",
       "    .dataframe tbody tr th:only-of-type {\n",
       "        vertical-align: middle;\n",
       "    }\n",
       "\n",
       "    .dataframe tbody tr th {\n",
       "        vertical-align: top;\n",
       "    }\n",
       "\n",
       "    .dataframe thead tr th {\n",
       "        text-align: left;\n",
       "    }\n",
       "</style>\n",
       "<table border=\"1\" class=\"dataframe\">\n",
       "  <thead>\n",
       "    <tr>\n",
       "      <th>X</th>\n",
       "      <th>X(0)</th>\n",
       "      <th>X(1)</th>\n",
       "    </tr>\n",
       "  </thead>\n",
       "  <tbody>\n",
       "    <tr>\n",
       "      <th>Y1(0)</th>\n",
       "      <td>0.503043</td>\n",
       "      <td>0.544379</td>\n",
       "    </tr>\n",
       "    <tr>\n",
       "      <th>Y1(1)</th>\n",
       "      <td>0.496957</td>\n",
       "      <td>0.455621</td>\n",
       "    </tr>\n",
       "  </tbody>\n",
       "</table>\n",
       "</div>"
      ],
      "text/plain": [
       "X          X(0)      X(1)\n",
       "Y1(0)  0.503043  0.544379\n",
       "Y1(1)  0.496957  0.455621"
      ]
     },
     "metadata": {},
     "output_type": "display_data"
    },
    {
     "data": {
      "text/html": [
       "<div>\n",
       "<style scoped>\n",
       "    .dataframe tbody tr th:only-of-type {\n",
       "        vertical-align: middle;\n",
       "    }\n",
       "\n",
       "    .dataframe tbody tr th {\n",
       "        vertical-align: top;\n",
       "    }\n",
       "\n",
       "    .dataframe thead tr th {\n",
       "        text-align: left;\n",
       "    }\n",
       "</style>\n",
       "<table border=\"1\" class=\"dataframe\">\n",
       "  <thead>\n",
       "    <tr>\n",
       "      <th>W2</th>\n",
       "      <th>W2(0)</th>\n",
       "      <th>W2(1)</th>\n",
       "    </tr>\n",
       "  </thead>\n",
       "  <tbody>\n",
       "    <tr>\n",
       "      <th>Y2(0)</th>\n",
       "      <td>0.527163</td>\n",
       "      <td>0.471173</td>\n",
       "    </tr>\n",
       "    <tr>\n",
       "      <th>Y2(1)</th>\n",
       "      <td>0.472837</td>\n",
       "      <td>0.528827</td>\n",
       "    </tr>\n",
       "  </tbody>\n",
       "</table>\n",
       "</div>"
      ],
      "text/plain": [
       "W2        W2(0)     W2(1)\n",
       "Y2(0)  0.527163  0.471173\n",
       "Y2(1)  0.472837  0.528827"
      ]
     },
     "metadata": {},
     "output_type": "display_data"
    },
    {
     "data": {
      "image/png": "[encoded data removed]",
      "text/plain": [
       "<Figure size 432x288 with 1 Axes>"
      ]
     },
     "metadata": {},
     "output_type": "display_data"
    },
    {
     "name": "stdout",
     "output_type": "stream",
     "text": [
      "Line 2\n",
      "Y: {'Y1'}\n",
      "X: {'W1', 'X'}\n"
     ]
    },
    {
     "data": {
      "text/html": [
       "<div>\n",
       "<style scoped>\n",
       "    .dataframe tbody tr th:only-of-type {\n",
       "        vertical-align: middle;\n",
       "    }\n",
       "\n",
       "    .dataframe tbody tr th {\n",
       "        vertical-align: top;\n",
       "    }\n",
       "\n",
       "    .dataframe thead th {\n",
       "        text-align: right;\n",
       "    }\n",
       "</style>\n",
       "<table border=\"1\" class=\"dataframe\">\n",
       "  <thead>\n",
       "    <tr style=\"text-align: right;\">\n",
       "      <th></th>\n",
       "      <th>W1</th>\n",
       "    </tr>\n",
       "  </thead>\n",
       "  <tbody>\n",
       "    <tr>\n",
       "      <th>W1(0)</th>\n",
       "      <td>0.515</td>\n",
       "    </tr>\n",
       "    <tr>\n",
       "      <th>W1(1)</th>\n",
       "      <td>0.485</td>\n",
       "    </tr>\n",
       "  </tbody>\n",
       "</table>\n",
       "</div>"
      ],
      "text/plain": [
       "          W1\n",
       "W1(0)  0.515\n",
       "W1(1)  0.485"
      ]
     },
     "metadata": {},
     "output_type": "display_data"
    },
    {
     "data": {
      "text/html": [
       "<div>\n",
       "<style scoped>\n",
       "    .dataframe tbody tr th:only-of-type {\n",
       "        vertical-align: middle;\n",
       "    }\n",
       "\n",
       "    .dataframe tbody tr th {\n",
       "        vertical-align: top;\n",
       "    }\n",
       "\n",
       "    .dataframe thead th {\n",
       "        text-align: right;\n",
       "    }\n",
       "</style>\n",
       "<table border=\"1\" class=\"dataframe\">\n",
       "  <thead>\n",
       "    <tr style=\"text-align: right;\">\n",
       "      <th></th>\n",
       "      <th>W2</th>\n",
       "    </tr>\n",
       "  </thead>\n",
       "  <tbody>\n",
       "    <tr>\n",
       "      <th>W2(0)</th>\n",
       "      <td>0.497</td>\n",
       "    </tr>\n",
       "    <tr>\n",
       "      <th>W2(1)</th>\n",
       "      <td>0.503</td>\n",
       "    </tr>\n",
       "  </tbody>\n",
       "</table>\n",
       "</div>"
      ],
      "text/plain": [
       "          W2\n",
       "W2(0)  0.497\n",
       "W2(1)  0.503"
      ]
     },
     "metadata": {},
     "output_type": "display_data"
    },
    {
     "data": {
      "text/html": [
       "<div>\n",
       "<style scoped>\n",
       "    .dataframe tbody tr th:only-of-type {\n",
       "        vertical-align: middle;\n",
       "    }\n",
       "\n",
       "    .dataframe tbody tr th {\n",
       "        vertical-align: top;\n",
       "    }\n",
       "\n",
       "    .dataframe thead tr th {\n",
       "        text-align: left;\n",
       "    }\n",
       "</style>\n",
       "<table border=\"1\" class=\"dataframe\">\n",
       "  <thead>\n",
       "    <tr>\n",
       "      <th>W1</th>\n",
       "      <th>W1(0)</th>\n",
       "      <th>W1(1)</th>\n",
       "    </tr>\n",
       "  </thead>\n",
       "  <tbody>\n",
       "    <tr>\n",
       "      <th>X(0)</th>\n",
       "      <td>0.473786</td>\n",
       "      <td>0.513402</td>\n",
       "    </tr>\n",
       "    <tr>\n",
       "      <th>X(1)</th>\n",
       "      <td>0.526214</td>\n",
       "      <td>0.486598</td>\n",
       "    </tr>\n",
       "  </tbody>\n",
       "</table>\n",
       "</div>"
      ],
      "text/plain": [
       "W1       W1(0)     W1(1)\n",
       "X(0)  0.473786  0.513402\n",
       "X(1)  0.526214  0.486598"
      ]
     },
     "metadata": {},
     "output_type": "display_data"
    },
    {
     "data": {
      "text/html": [
       "<div>\n",
       "<style scoped>\n",
       "    .dataframe tbody tr th:only-of-type {\n",
       "        vertical-align: middle;\n",
       "    }\n",
       "\n",
       "    .dataframe tbody tr th {\n",
       "        vertical-align: top;\n",
       "    }\n",
       "\n",
       "    .dataframe thead tr th {\n",
       "        text-align: left;\n",
       "    }\n",
       "</style>\n",
       "<table border=\"1\" class=\"dataframe\">\n",
       "  <thead>\n",
       "    <tr>\n",
       "      <th>X</th>\n",
       "      <th>X(0)</th>\n",
       "      <th>X(1)</th>\n",
       "    </tr>\n",
       "  </thead>\n",
       "  <tbody>\n",
       "    <tr>\n",
       "      <th>Y1(0)</th>\n",
       "      <td>0.503043</td>\n",
       "      <td>0.544379</td>\n",
       "    </tr>\n",
       "    <tr>\n",
       "      <th>Y1(1)</th>\n",
       "      <td>0.496957</td>\n",
       "      <td>0.455621</td>\n",
       "    </tr>\n",
       "  </tbody>\n",
       "</table>\n",
       "</div>"
      ],
      "text/plain": [
       "X          X(0)      X(1)\n",
       "Y1(0)  0.503043  0.544379\n",
       "Y1(1)  0.496957  0.455621"
      ]
     },
     "metadata": {},
     "output_type": "display_data"
    },
    {
     "data": {
      "text/html": [
       "<div>\n",
       "<style scoped>\n",
       "    .dataframe tbody tr th:only-of-type {\n",
       "        vertical-align: middle;\n",
       "    }\n",
       "\n",
       "    .dataframe tbody tr th {\n",
       "        vertical-align: top;\n",
       "    }\n",
       "\n",
       "    .dataframe thead th {\n",
       "        text-align: right;\n",
       "    }\n",
       "</style>\n",
       "<table border=\"1\" class=\"dataframe\">\n",
       "  <thead>\n",
       "    <tr style=\"text-align: right;\">\n",
       "      <th></th>\n",
       "      <th>Y2</th>\n",
       "    </tr>\n",
       "  </thead>\n",
       "  <tbody>\n",
       "    <tr>\n",
       "      <th>Y2(0)</th>\n",
       "      <td>0.499168</td>\n",
       "    </tr>\n",
       "    <tr>\n",
       "      <th>Y2(1)</th>\n",
       "      <td>0.500832</td>\n",
       "    </tr>\n",
       "  </tbody>\n",
       "</table>\n",
       "</div>"
      ],
      "text/plain": [
       "             Y2\n",
       "Y2(0)  0.499168\n",
       "Y2(1)  0.500832"
      ]
     },
     "metadata": {},
     "output_type": "display_data"
    },
    {
     "data": {
      "image/png": "[encoded data removed]",
      "text/plain": [
       "<Figure size 432x288 with 1 Axes>"
      ]
     },
     "metadata": {},
     "output_type": "display_data"
    },
    {
     "name": "stdout",
     "output_type": "stream",
     "text": [
      "found connected component {'Y1'} of node Y1\n",
      "C_x: [{'Y1'}]\n",
      "found connected component {'Y1', 'W1'} of node W1\n",
      "found connected component {'X'} of node X\n",
      "Line 7\n",
      "Found superset: {'Y1', 'W1'}\n",
      "Y: {'Y1'}\n",
      "X: {'W1'}\n"
     ]
    },
    {
     "data": {
      "text/html": [
       "<div>\n",
       "<style scoped>\n",
       "    .dataframe tbody tr th:only-of-type {\n",
       "        vertical-align: middle;\n",
       "    }\n",
       "\n",
       "    .dataframe tbody tr th {\n",
       "        vertical-align: top;\n",
       "    }\n",
       "\n",
       "    .dataframe thead th {\n",
       "        text-align: right;\n",
       "    }\n",
       "</style>\n",
       "<table border=\"1\" class=\"dataframe\">\n",
       "  <thead>\n",
       "    <tr style=\"text-align: right;\">\n",
       "      <th></th>\n",
       "      <th>W1</th>\n",
       "    </tr>\n",
       "  </thead>\n",
       "  <tbody>\n",
       "    <tr>\n",
       "      <th>W1(0)</th>\n",
       "      <td>0.515</td>\n",
       "    </tr>\n",
       "    <tr>\n",
       "      <th>W1(1)</th>\n",
       "      <td>0.485</td>\n",
       "    </tr>\n",
       "  </tbody>\n",
       "</table>\n",
       "</div>"
      ],
      "text/plain": [
       "          W1\n",
       "W1(0)  0.515\n",
       "W1(1)  0.485"
      ]
     },
     "metadata": {},
     "output_type": "display_data"
    },
    {
     "data": {
      "text/html": [
       "<div>\n",
       "<style scoped>\n",
       "    .dataframe tbody tr th:only-of-type {\n",
       "        vertical-align: middle;\n",
       "    }\n",
       "\n",
       "    .dataframe tbody tr th {\n",
       "        vertical-align: top;\n",
       "    }\n",
       "\n",
       "    .dataframe thead tr th {\n",
       "        text-align: left;\n",
       "    }\n",
       "</style>\n",
       "<table border=\"1\" class=\"dataframe\">\n",
       "  <thead>\n",
       "    <tr>\n",
       "      <th>X</th>\n",
       "      <th>X(0)</th>\n",
       "      <th>X(1)</th>\n",
       "    </tr>\n",
       "  </thead>\n",
       "  <tbody>\n",
       "    <tr>\n",
       "      <th>Y1(0)</th>\n",
       "      <td>0.503043</td>\n",
       "      <td>0.544379</td>\n",
       "    </tr>\n",
       "    <tr>\n",
       "      <th>Y1(1)</th>\n",
       "      <td>0.496957</td>\n",
       "      <td>0.455621</td>\n",
       "    </tr>\n",
       "  </tbody>\n",
       "</table>\n",
       "</div>"
      ],
      "text/plain": [
       "X          X(0)      X(1)\n",
       "Y1(0)  0.503043  0.544379\n",
       "Y1(1)  0.496957  0.455621"
      ]
     },
     "metadata": {},
     "output_type": "display_data"
    },
    {
     "data": {
      "image/png": "[encoded data removed]",
      "text/plain": [
       "<Figure size 432x288 with 1 Axes>"
      ]
     },
     "metadata": {},
     "output_type": "display_data"
    },
    {
     "name": "stdout",
     "output_type": "stream",
     "text": [
      "Line 2\n",
      "Y: {'Y1'}\n",
      "X: set()\n"
     ]
    },
    {
     "data": {
      "text/html": [
       "<div>\n",
       "<style scoped>\n",
       "    .dataframe tbody tr th:only-of-type {\n",
       "        vertical-align: middle;\n",
       "    }\n",
       "\n",
       "    .dataframe tbody tr th {\n",
       "        vertical-align: top;\n",
       "    }\n",
       "\n",
       "    .dataframe thead th {\n",
       "        text-align: right;\n",
       "    }\n",
       "</style>\n",
       "<table border=\"1\" class=\"dataframe\">\n",
       "  <thead>\n",
       "    <tr style=\"text-align: right;\">\n",
       "      <th></th>\n",
       "      <th>W1</th>\n",
       "    </tr>\n",
       "  </thead>\n",
       "  <tbody>\n",
       "    <tr>\n",
       "      <th>W1(0)</th>\n",
       "      <td>0.515</td>\n",
       "    </tr>\n",
       "    <tr>\n",
       "      <th>W1(1)</th>\n",
       "      <td>0.485</td>\n",
       "    </tr>\n",
       "  </tbody>\n",
       "</table>\n",
       "</div>"
      ],
      "text/plain": [
       "          W1\n",
       "W1(0)  0.515\n",
       "W1(1)  0.485"
      ]
     },
     "metadata": {},
     "output_type": "display_data"
    },
    {
     "data": {
      "text/html": [
       "<div>\n",
       "<style scoped>\n",
       "    .dataframe tbody tr th:only-of-type {\n",
       "        vertical-align: middle;\n",
       "    }\n",
       "\n",
       "    .dataframe tbody tr th {\n",
       "        vertical-align: top;\n",
       "    }\n",
       "\n",
       "    .dataframe thead tr th {\n",
       "        text-align: left;\n",
       "    }\n",
       "</style>\n",
       "<table border=\"1\" class=\"dataframe\">\n",
       "  <thead>\n",
       "    <tr>\n",
       "      <th>X</th>\n",
       "      <th>X(0)</th>\n",
       "      <th>X(1)</th>\n",
       "    </tr>\n",
       "  </thead>\n",
       "  <tbody>\n",
       "    <tr>\n",
       "      <th>Y1(0)</th>\n",
       "      <td>0.503043</td>\n",
       "      <td>0.544379</td>\n",
       "    </tr>\n",
       "    <tr>\n",
       "      <th>Y1(1)</th>\n",
       "      <td>0.496957</td>\n",
       "      <td>0.455621</td>\n",
       "    </tr>\n",
       "  </tbody>\n",
       "</table>\n",
       "</div>"
      ],
      "text/plain": [
       "X          X(0)      X(1)\n",
       "Y1(0)  0.503043  0.544379\n",
       "Y1(1)  0.496957  0.455621"
      ]
     },
     "metadata": {},
     "output_type": "display_data"
    },
    {
     "data": {
      "image/png": "[encoded data removed]",
      "text/plain": [
       "<Figure size 432x288 with 1 Axes>"
      ]
     },
     "metadata": {},
     "output_type": "display_data"
    },
    {
     "name": "stdout",
     "output_type": "stream",
     "text": [
      "Line 1\n",
      "found connected component {'Y1'} of node Y1\n",
      "C_x: [{'Y1'}]\n",
      "found connected component {'Y1', 'W1'} of node Y1\n",
      "Line 5\n"
     ]
    },
    {
     "ename": "Fail",
     "evalue": "C_components_of_U [{'Y1', 'W1'}] and C_components_of_U_x [{'Y1'}] form a hedge",
     "output_type": "error",
     "traceback": [
      "\u001b[0;31m---------------------------------------------------------------------------\u001b[0m",
      "\u001b[0;31mFail\u001b[0m                                      Traceback (most recent call last)",
      "\u001b[0;32m<ipython-input-14-3e1e3c4adaff>\u001b[0m in \u001b[0;36m<module>\u001b[0;34m()\u001b[0m\n\u001b[0;32m----> 1\u001b[0;31m \u001b[0mID\u001b[0m\u001b[0;34m(\u001b[0m\u001b[0my\u001b[0m\u001b[0;34m,\u001b[0m \u001b[0mx\u001b[0m\u001b[0;34m,\u001b[0m \u001b[0mP\u001b[0m\u001b[0;34m,\u001b[0m \u001b[0mG\u001b[0m\u001b[0;34m,\u001b[0m \u001b[0mU\u001b[0m\u001b[0;34m)\u001b[0m\u001b[0;34m\u001b[0m\u001b[0m\n\u001b[0m",
      "\u001b[0;32m<ipython-input-13-f65e6ecb92af>\u001b[0m in \u001b[0;36mID\u001b[0;34m(y, x, P, G, U)\u001b[0m\n\u001b[1;32m    189\u001b[0m     \u001b[0;32mif\u001b[0m \u001b[0mlen\u001b[0m\u001b[0;34m(\u001b[0m \u001b[0mw\u001b[0m \u001b[0;34m)\u001b[0m \u001b[0;34m>\u001b[0m \u001b[0;36m0\u001b[0m\u001b[0;34m:\u001b[0m\u001b[0;34m\u001b[0m\u001b[0m\n\u001b[1;32m    190\u001b[0m         \u001b[0mprint\u001b[0m\u001b[0;34m(\u001b[0m\u001b[0;34m'Line 3'\u001b[0m\u001b[0;34m)\u001b[0m\u001b[0;34m\u001b[0m\u001b[0m\n\u001b[0;32m--> 191\u001b[0;31m         \u001b[0mID\u001b[0m\u001b[0;34m(\u001b[0m \u001b[0my\u001b[0m\u001b[0;34m,\u001b[0m \u001b[0mx\u001b[0m \u001b[0;34m|\u001b[0m \u001b[0mw\u001b[0m\u001b[0;34m,\u001b[0m \u001b[0mP\u001b[0m\u001b[0;34m,\u001b[0m \u001b[0mG\u001b[0m\u001b[0;34m,\u001b[0m \u001b[0mU\u001b[0m \u001b[0;34m)\u001b[0m\u001b[0;34m\u001b[0m\u001b[0m\n\u001b[0m\u001b[1;32m    192\u001b[0m \u001b[0;34m\u001b[0m\u001b[0m\n\u001b[1;32m    193\u001b[0m     \u001b[0;31m# line 4\u001b[0m\u001b[0;34m\u001b[0m\u001b[0;34m\u001b[0m\u001b[0m\n",
      "\u001b[0;32m<ipython-input-13-f65e6ecb92af>\u001b[0m in \u001b[0;36mID\u001b[0;34m(y, x, P, G, U)\u001b[0m\n\u001b[1;32m    203\u001b[0m                                   \u001b[0mG\u001b[0m\u001b[0;34m,\u001b[0m\u001b[0;34m\u001b[0m\u001b[0m\n\u001b[1;32m    204\u001b[0m                                   U )\n\u001b[0;32m--> 205\u001b[0;31m                             for C_component in C_components_of_U_x] )\n\u001b[0m\u001b[1;32m    206\u001b[0m \u001b[0;34m\u001b[0m\u001b[0m\n\u001b[1;32m    207\u001b[0m     \u001b[0;32melif\u001b[0m \u001b[0mlen\u001b[0m\u001b[0;34m(\u001b[0m\u001b[0mC_components_of_U_x\u001b[0m\u001b[0;34m)\u001b[0m \u001b[0;34m==\u001b[0m \u001b[0;36m1\u001b[0m\u001b[0;34m:\u001b[0m\u001b[0;34m\u001b[0m\u001b[0m\n",
      "\u001b[0;32m<ipython-input-13-f65e6ecb92af>\u001b[0m in \u001b[0;36m<listcomp>\u001b[0;34m(.0)\u001b[0m\n\u001b[1;32m    203\u001b[0m                                   \u001b[0mG\u001b[0m\u001b[0;34m,\u001b[0m\u001b[0;34m\u001b[0m\u001b[0m\n\u001b[1;32m    204\u001b[0m                                   U )\n\u001b[0;32m--> 205\u001b[0;31m                             for C_component in C_components_of_U_x] )\n\u001b[0m\u001b[1;32m    206\u001b[0m \u001b[0;34m\u001b[0m\u001b[0m\n\u001b[1;32m    207\u001b[0m     \u001b[0;32melif\u001b[0m \u001b[0mlen\u001b[0m\u001b[0;34m(\u001b[0m\u001b[0mC_components_of_U_x\u001b[0m\u001b[0;34m)\u001b[0m \u001b[0;34m==\u001b[0m \u001b[0;36m1\u001b[0m\u001b[0;34m:\u001b[0m\u001b[0;34m\u001b[0m\u001b[0m\n",
      "\u001b[0;32m<ipython-input-13-f65e6ecb92af>\u001b[0m in \u001b[0;36mID\u001b[0;34m(y, x, P, G, U)\u001b[0m\n\u001b[1;32m    181\u001b[0m            \u001b[0mmarginalize\u001b[0m\u001b[0;34m(\u001b[0m \u001b[0mv\u001b[0m \u001b[0;34m-\u001b[0m \u001b[0mancestors_y\u001b[0m\u001b[0;34m,\u001b[0m \u001b[0mP\u001b[0m \u001b[0;34m)\u001b[0m\u001b[0;34m,\u001b[0m\u001b[0;34m\u001b[0m\u001b[0m\n\u001b[1;32m    182\u001b[0m            \u001b[0mG\u001b[0m\u001b[0;34m.\u001b[0m\u001b[0msubgraph\u001b[0m\u001b[0;34m(\u001b[0m \u001b[0mancestors_y\u001b[0m \u001b[0;34m)\u001b[0m\u001b[0;34m,\u001b[0m\u001b[0;34m\u001b[0m\u001b[0m\n\u001b[0;32m--> 183\u001b[0;31m            \u001b[0mU\u001b[0m\u001b[0;34m.\u001b[0m\u001b[0msubgraph\u001b[0m\u001b[0;34m(\u001b[0m \u001b[0mancestors_y\u001b[0m \u001b[0;34m)\u001b[0m\u001b[0;34m\u001b[0m\u001b[0m\n\u001b[0m\u001b[1;32m    184\u001b[0m           )\n\u001b[1;32m    185\u001b[0m \u001b[0;34m\u001b[0m\u001b[0m\n",
      "\u001b[0;32m<ipython-input-13-f65e6ecb92af>\u001b[0m in \u001b[0;36mID\u001b[0;34m(y, x, P, G, U)\u001b[0m\n\u001b[1;32m    235\u001b[0m                        \u001b[0mP_prime\u001b[0m\u001b[0;34m,\u001b[0m\u001b[0;34m\u001b[0m\u001b[0m\n\u001b[1;32m    236\u001b[0m                        \u001b[0mG\u001b[0m\u001b[0;34m.\u001b[0m\u001b[0msubgraph\u001b[0m\u001b[0;34m(\u001b[0m \u001b[0mS_prime\u001b[0m \u001b[0;34m)\u001b[0m\u001b[0;34m,\u001b[0m\u001b[0;34m\u001b[0m\u001b[0m\n\u001b[0;32m--> 237\u001b[0;31m                        \u001b[0mU\u001b[0m\u001b[0;34m.\u001b[0m\u001b[0msubgraph\u001b[0m\u001b[0;34m(\u001b[0m \u001b[0mS_prime\u001b[0m \u001b[0;34m)\u001b[0m\u001b[0;34m\u001b[0m\u001b[0m\n\u001b[0m\u001b[1;32m    238\u001b[0m                      )\n\u001b[1;32m    239\u001b[0m         \u001b[0;32melse\u001b[0m\u001b[0;34m:\u001b[0m\u001b[0;34m\u001b[0m\u001b[0m\n",
      "\u001b[0;32m<ipython-input-13-f65e6ecb92af>\u001b[0m in \u001b[0;36mID\u001b[0;34m(y, x, P, G, U)\u001b[0m\n\u001b[1;32m    214\u001b[0m             raise Fail( \n\u001b[1;32m    215\u001b[0m                 \"C_components_of_U {} and C_components_of_U_x {} form a hedge\".format(\n\u001b[0;32m--> 216\u001b[0;31m                     C_components_of_U, C_components_of_U_x ))\n\u001b[0m\u001b[1;32m    217\u001b[0m         \u001b[0;31m# line 6\u001b[0m\u001b[0;34m\u001b[0m\u001b[0;34m\u001b[0m\u001b[0m\n\u001b[1;32m    218\u001b[0m         \u001b[0mpi\u001b[0m \u001b[0;34m=\u001b[0m \u001b[0mnx\u001b[0m\u001b[0;34m.\u001b[0m\u001b[0mtopological_sort\u001b[0m\u001b[0;34m(\u001b[0m \u001b[0mG\u001b[0m \u001b[0;34m)\u001b[0m\u001b[0;34m\u001b[0m\u001b[0m\n",
      "\u001b[0;31mFail\u001b[0m: C_components_of_U [{'Y1', 'W1'}] and C_components_of_U_x [{'Y1'}] form a hedge"
     ]
    }
   ],
   "source": [
    "ID(y, x, P, G, U)"
   ]
  },
  {
   "cell_type": "code",
   "execution_count": null,
   "metadata": {},
   "outputs": [],
   "source": []
  }
 ],
 "metadata": {
  "_draft": {
   "nbviewer_url": "https://gist.github.com/40e95aead3c4bc8281b006fffeb1f9ee"
  },
  "gist": {
   "data": {
    "description": "DL/CausalInference/pgmpy_notebook/notebooks/Untitled.ipynb",
    "public": true
   },
   "id": "40e95aead3c4bc8281b006fffeb1f9ee"
  },
  "kernelspec": {
   "display_name": "causality",
   "language": "python",
   "name": "causality"
  },
  "language_info": {
   "codemirror_mode": {
    "name": "ipython",
    "version": 3
   },
   "file_extension": ".py",
   "mimetype": "text/x-python",
   "name": "python",
   "nbconvert_exporter": "python",
   "pygments_lexer": "ipython3",
   "version": "3.6.6"
  },
  "toc": {
   "base_numbering": 1,
   "nav_menu": {},
   "number_sections": true,
   "sideBar": true,
   "skip_h1_title": false,
   "title_cell": "Table of Contents",
   "title_sidebar": "Contents",
   "toc_cell": true,
   "toc_position": {},
   "toc_section_display": true,
   "toc_window_display": false
  },
  "varInspector": {
   "cols": {
    "lenName": 16,
    "lenType": 16,
    "lenVar": 40
   },
   "kernels_config": {
    "python": {
     "delete_cmd_postfix": "",
     "delete_cmd_prefix": "del ",
     "library": "var_list.py",
     "varRefreshCmd": "print(var_dic_list())"
    },
    "r": {
     "delete_cmd_postfix": ") ",
     "delete_cmd_prefix": "rm(",
     "library": "var_list.r",
     "varRefreshCmd": "cat(var_dic_list()) "
    }
   },
   "types_to_exclude": [
    "module",
    "function",
    "builtin_function_or_method",
    "instance",
    "_Feature"
   ],
   "window_display": false
  }
 },
 "nbformat": 4,
 "nbformat_minor": 2
}
