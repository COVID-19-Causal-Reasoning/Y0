{
 "cells": [
  {
   "cell_type": "markdown",
   "metadata": {},
   "source": [
    "# The Do-calculus\n"
   ]
  },
  {
   "cell_type": "markdown",
   "metadata": {},
   "source": [
    "$$P(y_x|x',y')$$\n",
    "$$P(Y_x) = P(Y|do(x)) = P_x(Y)$$\n"
   ]
  },
  {
   "cell_type": "markdown",
   "metadata": {},
   "source": [
    "## Rule 1: Ignoring observations\n",
    "\n",
    "\n",
    "$$\\newcommand\\ci{\\perp\\!\\!\\!\\perp}$$\n",
    "$$\\newcommand{\\ubar}[1]{\\underset{\\bar{}}{#1}}\n",
    "\\newcommand{\\obar}[1]{\\overset{\\bar{}}{#1}}$$\n",
    "\n",
    "$$P(y|do(x),{\\color{blue}z},w) = P(y|do(x),w)\\text{ if } ( Y\\ci Z|X,W )_{G_{\\bar{X}}}$$\n",
    "\n",
    "or in the Shpitser notation:\n",
    "\n",
    "$$P_x(y|{\\color{blue}z},w) = P_x(y|w)\\text{ if } ( Y\\ci Z|X,W )_{G_{\\bar{X}}}$$"
   ]
  },
  {
   "cell_type": "markdown",
   "metadata": {},
   "source": [
    "## Rule 2: Action/Observation Change\n",
    "\n",
    "$$P(y|do(x), \\color{red}{do(z)}, w) = P(y|do(x),\\color{red} z, w)\\text{ if } (Y\\ci Z|X,W)_{G_{\\bar{X},\\ubar{Z}}}$$\n",
    "or in Shpitser notation:\n",
    "\n",
    "$$P_{x,\\color{red}z}(y|w) = P_x(y|\\color{red}z,w) \\text{ if } (Y\\ci Z|X,W)_{G_{\\bar{X},\\ubar{Z}}}$$\n",
    "\n",
    "Where $G_{\\bar{X},\\ubar{Z}}$  is taken to mean the graph obtained from $G$ by removing arrows pointing to $X$ and arrows leaving $Z$. "
   ]
  },
  {
   "cell_type": "markdown",
   "metadata": {},
   "source": [
    "# Rule 3: Ignoring actions\n",
    "\n",
    "$$P(y|do(x),\\color{green}{do(z)},w) = P(y|do(x),w)\\text{ if }(Y\\ci Z|X,W)_{G_{\\bar{X}\\bar{Z(W)}}}$$\n",
    "\n",
    "where $Z(W)$ is the set of $Z$ nodes not ancestors of any $W$-node in $G_{\\bar{X}}$.\n",
    "\n"
   ]
  },
  {
   "cell_type": "markdown",
   "metadata": {},
   "source": [
    "# Theorem 2: The bow arc is not identifiable.\n",
    "\n",
    "We construct two causal models $M^1$ and $M^2$ such that $P^1(X, Y)=P^2(X, Y)$ ,and $P^1_x(Y)\\ne P^2_x(Y)$.The two models agree on the following: all 3 variables are boolean, $U$ is a fair coin, and $f_X(u)=u$.Let $⊕$ denote the exclusive or (XOR) function. Then the value of $Y$ is determined by the function $u⊕x$ in $M^1$, while $Y$ is set to $0$ in $M^2$. Then $P^1(Y=0)=P^2(Y=0)=1$, $P^1(X=0)=P^2(X=0)=0.5$. Therefore, $P^1(X, Y)=P^2(X, Y)$, while $P^2_x(Y=0)=1\\ne P^1_x(Y=0)=0.5$. Note that while $P$ is non-positive, it is straightforward to modify the proof for the positive case by letting $f_Y$ functions in both models return 1 half the time, and the values outlined above half the time."
   ]
  },
  {
   "cell_type": "code",
   "execution_count": null,
   "metadata": {},
   "outputs": [],
   "source": [
    "from scipy.stats import bernoulli\n",
    "def Model1(u):\n",
    "    x = u\n",
    "    y = x ^ u\n",
    "    return x, y\n",
    "\n",
    "def Model2(u):\n",
    "    x = u\n",
    "    y = 0\n",
    "    return x,y\n",
    "def sample(size=1000, p=0.5):\n",
    "    u = bernoulli.rvs(p, size=size)\n",
    "    unique, counts = numpy.unique(u, return_counts=True)\n",
    "    return dict(zip(unique, [c/size for c in counts]))\n",
    "def P1(X=None,Y=None,p=0.5, size=1000):\n",
    "    u = bernoulli.rvs(p,size=size)\n",
    "    joint = [Model1(u_i) for u_i in u]\n",
    "    count = 0\n",
    "\n",
    "        for x,y in joint: \n",
    "            if X and Y and X==x and Y==y:\n",
    "                count +=1\n",
    "            elif\n",
    "            \n",
    "    \n",
    "\n",
    "        dict(zip(unique, counts))"
   ]
  },
  {
   "cell_type": "markdown",
   "metadata": {},
   "source": [
    "# C-component\n",
    "Let $G$ be a semi-Markovian graph such that a subset of its bidirected arcs forms a spanning tree over all vertices in $G.$Then $G$ is a C-component(confounded component).\n",
    "\n",
    "Let a path composed entirely of bidirected\n",
    "edges be called a bidirected path. The set of variables $V$ can\n",
    "be partitioned into disjoint groups by assigning two variables\n",
    "to the same group if and only if they are connected by a\n",
    "bidirected path. \n",
    "\n",
    "# Definition 4: (C-tree)\n",
    "\n",
    "Let $G$ be a semi-Markovian graph such that $G$ is a C-component, all observable nodes have at most one child, and there is a node $Y$ such that $An(Y)_G= G$.Then $G$ is a $Y$-rooted C-tree (confounded tree).\n"
   ]
  },
  {
   "cell_type": "markdown",
   "metadata": {},
   "source": [
    "# A tree is not a Computer science tree!\n",
    "\n",
    "In computer science, the root of a tree has no parents, and the leaves have no children. And all children have only one parent.\n",
    "\n",
    "In the Pearlian world, the root of a tree has no children, and all nodes have at most one child. The issue is that the arrows point in the opposite direction.  "
   ]
  },
  {
   "cell_type": "markdown",
   "metadata": {},
   "source": [
    "# $An( Y )$ includes $Y$!\n",
    "\n",
    "From \"[A General Identification Condition for Causal Effects](https://ftp.cs.ucla.edu/pub/stat_ser/R290-A.pdf)\" by Tian and Pearl 2002:\n",
    "\n",
    "Let  $An( S )$ denote  the  union  of  a  set $S$ and  the  set  of ancestors of the variables in $S$, and let $G_{An( S )}$ denote the subgraph of $G$ composed only of variables in $An( S )$."
   ]
  },
  {
   "cell_type": "markdown",
   "metadata": {},
   "source": []
  }
 ],
 "metadata": {
  "kernelspec": {
   "display_name": "Python 3",
   "language": "python",
   "name": "python3"
  },
  "language_info": {
   "codemirror_mode": {
    "name": "ipython",
    "version": 3
   },
   "file_extension": ".py",
   "mimetype": "text/x-python",
   "name": "python",
   "nbconvert_exporter": "python",
   "pygments_lexer": "ipython3",
   "version": "3.7.4"
  }
 },
 "nbformat": 4,
 "nbformat_minor": 4
}
