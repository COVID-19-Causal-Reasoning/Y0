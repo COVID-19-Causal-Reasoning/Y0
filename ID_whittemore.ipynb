{
 "cells": [
  {
   "cell_type": "markdown",
   "metadata": {
    "toc": true
   },
   "source": [
    "<h1>Table of Contents<span class=\"tocSkip\"></span></h1>\n",
    "<div class=\"toc\"><ul class=\"toc-item\"><li><span><a href=\"#Figure-1:-Causal-graphs-where--$P(Y|do(x))$-is-not-identifiable\" data-toc-modified-id=\"Figure-1:-Causal-graphs-where--$P(Y|do(x))$-is-not-identifiable-1\"><span class=\"toc-item-num\">1&nbsp;&nbsp;</span>Figure 1: Causal graphs where  $P(Y|do(x))$ is not identifiable</a></span><ul class=\"toc-item\"><li><span><a href=\"#Figure-1a\" data-toc-modified-id=\"Figure-1a-1.1\"><span class=\"toc-item-num\">1.1&nbsp;&nbsp;</span>Figure 1a</a></span></li><li><span><a href=\"#Figure-1b\" data-toc-modified-id=\"Figure-1b-1.2\"><span class=\"toc-item-num\">1.2&nbsp;&nbsp;</span>Figure 1b</a></span></li><li><span><a href=\"#Figure-1c\" data-toc-modified-id=\"Figure-1c-1.3\"><span class=\"toc-item-num\">1.3&nbsp;&nbsp;</span>Figure 1c</a></span></li><li><span><a href=\"#Figure-1d\" data-toc-modified-id=\"Figure-1d-1.4\"><span class=\"toc-item-num\">1.4&nbsp;&nbsp;</span>Figure 1d</a></span></li><li><span><a href=\"#Figure-1e\" data-toc-modified-id=\"Figure-1e-1.5\"><span class=\"toc-item-num\">1.5&nbsp;&nbsp;</span>Figure 1e</a></span></li><li><span><a href=\"#Figure-1f\" data-toc-modified-id=\"Figure-1f-1.6\"><span class=\"toc-item-num\">1.6&nbsp;&nbsp;</span>Figure 1f</a></span></li><li><span><a href=\"#Figure-1g\" data-toc-modified-id=\"Figure-1g-1.7\"><span class=\"toc-item-num\">1.7&nbsp;&nbsp;</span>Figure 1g</a></span></li><li><span><a href=\"#Figure-1h\" data-toc-modified-id=\"Figure-1h-1.8\"><span class=\"toc-item-num\">1.8&nbsp;&nbsp;</span>Figure 1h</a></span></li></ul></li><li><span><a href=\"#Figure-2:-Causal-graphs-admitting-identifiable-effect-$P(y|do(x))$\" data-toc-modified-id=\"Figure-2:-Causal-graphs-admitting-identifiable-effect-$P(y|do(x))$-2\"><span class=\"toc-item-num\">2&nbsp;&nbsp;</span>Figure 2: Causal graphs admitting identifiable effect $P(y|do(x))$</a></span><ul class=\"toc-item\"><li><span><a href=\"#Figure-2a\" data-toc-modified-id=\"Figure-2a-2.1\"><span class=\"toc-item-num\">2.1&nbsp;&nbsp;</span>Figure 2a</a></span></li><li><span><a href=\"#Figure-2b\" data-toc-modified-id=\"Figure-2b-2.2\"><span class=\"toc-item-num\">2.2&nbsp;&nbsp;</span>Figure 2b</a></span></li><li><span><a href=\"#Figure-2c\" data-toc-modified-id=\"Figure-2c-2.3\"><span class=\"toc-item-num\">2.3&nbsp;&nbsp;</span>Figure 2c</a></span></li><li><span><a href=\"#Figure-2d\" data-toc-modified-id=\"Figure-2d-2.4\"><span class=\"toc-item-num\">2.4&nbsp;&nbsp;</span>Figure 2d</a></span></li><li><span><a href=\"#Figure-2e\" data-toc-modified-id=\"Figure-2e-2.5\"><span class=\"toc-item-num\">2.5&nbsp;&nbsp;</span>Figure 2e</a></span></li><li><span><a href=\"#Figure-2f\" data-toc-modified-id=\"Figure-2f-2.6\"><span class=\"toc-item-num\">2.6&nbsp;&nbsp;</span>Figure 2f</a></span></li><li><span><a href=\"#Figure-2g\" data-toc-modified-id=\"Figure-2g-2.7\"><span class=\"toc-item-num\">2.7&nbsp;&nbsp;</span>Figure 2g</a></span></li></ul></li><li><span><a href=\"#Figure-3-graphs\" data-toc-modified-id=\"Figure-3-graphs-3\"><span class=\"toc-item-num\">3&nbsp;&nbsp;</span>Figure 3 graphs</a></span><ul class=\"toc-item\"><li><span><a href=\"#A-graph-edge-less-for-$P(y|do(x)$\" data-toc-modified-id=\"A-graph-edge-less-for-$P(y|do(x)$-3.1\"><span class=\"toc-item-num\">3.1&nbsp;&nbsp;</span>A graph edge-less for $P(y|do(x)$</a></span></li><li><span><a href=\"#A-graph-containing-a-hedge-for-$P(y|do(x))$\" data-toc-modified-id=\"A-graph-containing-a-hedge-for-$P(y|do(x))$-3.2\"><span class=\"toc-item-num\">3.2&nbsp;&nbsp;</span>A graph containing a hedge for $P(y|do(x))$</a></span></li></ul></li><li><span><a href=\"#Figure-4:-A-complete-identification-algorithm.\" data-toc-modified-id=\"Figure-4:-A-complete-identification-algorithm.-4\"><span class=\"toc-item-num\">4&nbsp;&nbsp;</span>Figure 4: A complete identification algorithm.</a></span><ul class=\"toc-item\"><li><span><a href=\"#Application-of-$\\mathbf{ID}$-to-Figure-3a\" data-toc-modified-id=\"Application-of-$\\mathbf{ID}$-to-Figure-3a-4.1\"><span class=\"toc-item-num\">4.1&nbsp;&nbsp;</span>Application of $\\mathbf{ID}$ to Figure 3a</a></span></li></ul></li><li><span><a href=\"#Figure-5:-Subgraphs-of-G-used-for-identifying-$P_x(y_1,y_2)$.\" data-toc-modified-id=\"Figure-5:-Subgraphs-of-G-used-for-identifying-$P_x(y_1,y_2)$.-5\"><span class=\"toc-item-num\">5&nbsp;&nbsp;</span>Figure 5: Subgraphs of G used for identifying $P_x(y_1,y_2)$.</a></span><ul class=\"toc-item\"><li><span><a href=\"#Figure-5a\" data-toc-modified-id=\"Figure-5a-5.1\"><span class=\"toc-item-num\">5.1&nbsp;&nbsp;</span>Figure 5a</a></span></li><li><span><a href=\"#Figure-5b\" data-toc-modified-id=\"Figure-5b-5.2\"><span class=\"toc-item-num\">5.2&nbsp;&nbsp;</span>Figure 5b</a></span></li></ul></li></ul></div>"
   ]
  },
  {
   "cell_type": "code",
   "execution_count": 2,
   "metadata": {
    "ExecuteTime": {
     "end_time": "2019-04-24T17:16:53-07:00",
     "start_time": "2019-04-25T00:16:31.839Z"
    }
   },
   "outputs": [],
   "source": [
    "(require '[whittemore.core :refer [model q identify data define\n",
    "                                   infer estimate measure categorical]]\n",
    "         '[whittemore.io :refer [read-csv head]]\n",
    "         '[whittemore.plot :refer [plot-p-map plot-univariate]])"
   ]
  },
  {
   "cell_type": "markdown",
   "metadata": {},
   "source": [
    "# Figure 1: Causal graphs where  $P(Y|do(x))$ is not identifiable"
   ]
  },
  {
   "cell_type": "markdown",
   "metadata": {},
   "source": [
    "## Figure 1a"
   ]
  },
  {
   "cell_type": "code",
   "execution_count": 3,
   "metadata": {
    "ExecuteTime": {
     "end_time": "2019-04-24T17:16:54-07:00",
     "start_time": "2019-04-25T00:16:36.648Z"
    }
   },
   "outputs": [
    {
     "data": {
      "text/html": [
       "<img src=\"data:image/svg+xml;base64,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\">"
      ]
     },
     "execution_count": 3,
     "metadata": {},
     "output_type": "execute_result"
    }
   ],
   "source": [
    "(def figure-1a\n",
    "    \"From Complete Identification methods for the Causal Hierarch by Shpitser and Pearl\"\n",
    "    (model\n",
    "        {:X []\n",
    "         :Y [:X]}\n",
    "        #{:X :Y}\n",
    "        ))\n",
    "figure-1a"
   ]
  },
  {
   "cell_type": "code",
   "execution_count": 4,
   "metadata": {
    "ExecuteTime": {
     "end_time": "2019-04-24T17:17:00-07:00",
     "start_time": "2019-04-25T00:17:00.448Z"
    }
   },
   "outputs": [
    {
     "data": {
      "text/plain": [
       "#whittemore.core.Fail{:cause #{{:hedge #whittemore.core.Model{:pa {:X #{}, :Y #{:X}}, :bi #{#{:Y :X}}}, :s #{:Y}}}}"
      ]
     },
     "execution_count": 4,
     "metadata": {},
     "output_type": "execute_result"
    }
   ],
   "source": [
    "(identify\n",
    "    figure-1a\n",
    "        (q [:Y] :do [:X]))"
   ]
  },
  {
   "cell_type": "markdown",
   "metadata": {},
   "source": [
    "## Figure 1b"
   ]
  },
  {
   "cell_type": "code",
   "execution_count": 17,
   "metadata": {
    "ExecuteTime": {
     "end_time": "2019-04-21T10:30:45-07:00",
     "start_time": "2019-04-21T17:30:45.675Z"
    }
   },
   "outputs": [
    {
     "data": {
      "text/html": [
       "<img src=\"data:image/svg+xml;base64,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\">"
      ]
     },
     "execution_count": 17,
     "metadata": {},
     "output_type": "execute_result"
    }
   ],
   "source": [
    "(def figure-1b\n",
    "    \"From Complete Identification methods for the Causal Hierarch by Shpitser and Pearl\"\n",
    "    (model\n",
    "        {:X []\n",
    "         :Z [:X]\n",
    "         :Y [:Z]}\n",
    "        #{:X :Z}\n",
    "        ))\n",
    "figure-1b"
   ]
  },
  {
   "cell_type": "code",
   "execution_count": 38,
   "metadata": {
    "ExecuteTime": {
     "end_time": "2019-04-21T10:52:09-07:00",
     "start_time": "2019-04-21T17:52:09.830Z"
    }
   },
   "outputs": [
    {
     "data": {
      "text/plain": [
       "#whittemore.core.Fail{:cause #{{:hedge #whittemore.core.Model{:pa {:X #{}, :Z #{:X}}, :bi #{#{:Z :X}}}, :s #{:Z}}}}"
      ]
     },
     "execution_count": 38,
     "metadata": {},
     "output_type": "execute_result"
    }
   ],
   "source": [
    "(identify\n",
    "    figure-1b\n",
    "        (q [:Y] :do [:X]))"
   ]
  },
  {
   "cell_type": "markdown",
   "metadata": {},
   "source": [
    "## Figure 1c"
   ]
  },
  {
   "cell_type": "code",
   "execution_count": 18,
   "metadata": {
    "ExecuteTime": {
     "end_time": "2019-04-21T10:31:33-07:00",
     "start_time": "2019-04-21T17:31:32.763Z"
    }
   },
   "outputs": [
    {
     "data": {
      "text/html": [
       "<img src=\"data:image/svg+xml;base64,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\">"
      ]
     },
     "execution_count": 18,
     "metadata": {},
     "output_type": "execute_result"
    }
   ],
   "source": [
    "(def figure-1c\n",
    "    \"From Complete Identification methods for the Causal Hierarch by Shpitser and Pearl\"\n",
    "    (model\n",
    "        {:X []\n",
    "         :Z [:X]\n",
    "         :Y [:X :Z]}\n",
    "        #{:X :Z}\n",
    "        ))\n",
    "figure-1c"
   ]
  },
  {
   "cell_type": "code",
   "execution_count": 39,
   "metadata": {
    "ExecuteTime": {
     "end_time": "2019-04-21T10:53:10-07:00",
     "start_time": "2019-04-21T17:53:10.525Z"
    }
   },
   "outputs": [
    {
     "data": {
      "text/plain": [
       "#whittemore.core.Fail{:cause #{{:hedge #whittemore.core.Model{:pa {:X #{}, :Z #{:X}}, :bi #{#{:Z :X}}}, :s #{:Z}}}}"
      ]
     },
     "execution_count": 39,
     "metadata": {},
     "output_type": "execute_result"
    }
   ],
   "source": [
    "(identify\n",
    "    figure-1c\n",
    "        (q [:Y] :do [:X]))"
   ]
  },
  {
   "cell_type": "markdown",
   "metadata": {},
   "source": [
    "## Figure 1d"
   ]
  },
  {
   "cell_type": "code",
   "execution_count": 19,
   "metadata": {
    "ExecuteTime": {
     "end_time": "2019-04-21T10:55:09-07:00",
     "start_time": "2019-04-21T17:55:09.599Z"
    }
   },
   "outputs": [
    {
     "data": {
      "text/html": [
       "<img src=\"data:image/svg+xml;base64,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\">"
      ]
     },
     "execution_count": 19,
     "metadata": {},
     "output_type": "execute_result"
    }
   ],
   "source": [
    "(def figure-1d\n",
    "    \"From Complete Identification methods for the Causal Hierarch by Shpitser and Pearl\"\n",
    "    (model\n",
    "        {:X []\n",
    "         :Z []\n",
    "         :Y [:X :Z]}\n",
    "        #{:X :Z}\n",
    "        #{:Z :Y}\n",
    "        ))\n",
    "figure-1d"
   ]
  },
  {
   "cell_type": "code",
   "execution_count": 40,
   "metadata": {
    "ExecuteTime": {
     "end_time": "2019-04-21T10:53:32-07:00",
     "start_time": "2019-04-21T17:53:32.415Z"
    }
   },
   "outputs": [
    {
     "data": {
      "text/plain": [
       "#whittemore.core.Fail{:cause #{{:hedge #whittemore.core.Model{:pa {:X #{}, :Z #{}, :Y #{:Z :X}}, :bi #{#{:Z :X} #{:Z :Y}}}, :s #{:Z :Y}}}}"
      ]
     },
     "execution_count": 40,
     "metadata": {},
     "output_type": "execute_result"
    }
   ],
   "source": [
    "(identify\n",
    "    figure-1d\n",
    "        (q [:Y] :do [:X]))"
   ]
  },
  {
   "cell_type": "markdown",
   "metadata": {},
   "source": [
    "## Figure 1e"
   ]
  },
  {
   "cell_type": "code",
   "execution_count": 20,
   "metadata": {
    "ExecuteTime": {
     "end_time": "2019-04-21T10:55:09-07:00",
     "start_time": "2019-04-21T17:55:09.599Z"
    }
   },
   "outputs": [
    {
     "data": {
      "text/html": [
       "<img src=\"data:image/svg+xml;base64,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\">"
      ]
     },
     "execution_count": 20,
     "metadata": {},
     "output_type": "execute_result"
    }
   ],
   "source": [
    "(def figure-1e\n",
    "    \"From Complete Identification methods for the Causal Hierarch by Shpitser and Pearl\"\n",
    "    (model\n",
    "        {:X [:Z]\n",
    "         :Z []\n",
    "         :Y [:X]}\n",
    "        #{:X :Z}\n",
    "        #{:Y :Z}\n",
    "        ))\n",
    "figure-1e"
   ]
  },
  {
   "cell_type": "code",
   "execution_count": 41,
   "metadata": {
    "ExecuteTime": {
     "end_time": "2019-04-21T10:53:54-07:00",
     "start_time": "2019-04-21T17:53:54.686Z"
    }
   },
   "outputs": [
    {
     "data": {
      "text/plain": [
       "#whittemore.core.Fail{:cause #{{:hedge #whittemore.core.Model{:pa {:X #{:Z}, :Z #{}, :Y #{:X}}, :bi #{#{:Z :X} #{:Z :Y}}}, :s #{:Y}}}}"
      ]
     },
     "execution_count": 41,
     "metadata": {},
     "output_type": "execute_result"
    }
   ],
   "source": [
    "(identify\n",
    "    figure-1e\n",
    "        (q [:Y] :do [:X]))"
   ]
  },
  {
   "cell_type": "markdown",
   "metadata": {},
   "source": [
    "## Figure 1f"
   ]
  },
  {
   "cell_type": "code",
   "execution_count": 21,
   "metadata": {
    "ExecuteTime": {
     "end_time": "2019-04-21T10:55:09-07:00",
     "start_time": "2019-04-21T17:55:09.599Z"
    }
   },
   "outputs": [
    {
     "data": {
      "text/html": [
       "<img src=\"data:image/svg+xml;base64,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\">"
      ]
     },
     "execution_count": 21,
     "metadata": {},
     "output_type": "execute_result"
    }
   ],
   "source": [
    "(def figure-1f\n",
    "    \"From Complete Identification methods for the Causal Hierarch by Shpitser and Pearl\"\n",
    "    (model\n",
    "        {:X []\n",
    "         :Z [:X]\n",
    "         :Y [:Z]}\n",
    "        #{:X :Y}\n",
    "        #{:Y :Z}\n",
    "        ))\n",
    "figure-1f"
   ]
  },
  {
   "cell_type": "code",
   "execution_count": 42,
   "metadata": {
    "ExecuteTime": {
     "end_time": "2019-04-21T10:54:17-07:00",
     "start_time": "2019-04-21T17:54:17.269Z"
    }
   },
   "outputs": [
    {
     "data": {
      "text/plain": [
       "#whittemore.core.Fail{:cause #{{:hedge #whittemore.core.Model{:pa {:X #{}, :Z #{:X}, :Y #{:Z}}, :bi #{#{:Y :X} #{:Z :Y}}}, :s #{:Z :Y}}}}"
      ]
     },
     "execution_count": 42,
     "metadata": {},
     "output_type": "execute_result"
    }
   ],
   "source": [
    "(identify\n",
    "    figure-1f\n",
    "        (q [:Y] :do [:X]))"
   ]
  },
  {
   "cell_type": "markdown",
   "metadata": {},
   "source": [
    "## Figure 1g"
   ]
  },
  {
   "cell_type": "code",
   "execution_count": 43,
   "metadata": {
    "ExecuteTime": {
     "end_time": "2019-04-21T10:55:09-07:00",
     "start_time": "2019-04-21T17:55:09.599Z"
    }
   },
   "outputs": [
    {
     "data": {
      "text/html": [
       "<img src=\"data:image/svg+xml;base64,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\">"
      ]
     },
     "execution_count": 43,
     "metadata": {},
     "output_type": "execute_result"
    }
   ],
   "source": [
    "(def figure-1g\n",
    "    \"From Complete Identification methods for the Causal Hierarch by Shpitser and Pearl\"\n",
    "    (model\n",
    "        {:X []\n",
    "         :Z1 [:X]\n",
    "         :Z2 []\n",
    "         :Y [:Z2 :Z1]}\n",
    "        #{:X :Z2}\n",
    "        #{:Z1 :Z2}\n",
    "        ))\n",
    "figure-1g"
   ]
  },
  {
   "cell_type": "code",
   "execution_count": 44,
   "metadata": {
    "ExecuteTime": {
     "end_time": "2019-04-21T10:54:34-07:00",
     "start_time": "2019-04-21T17:54:34.710Z"
    }
   },
   "outputs": [
    {
     "data": {
      "text/plain": [
       "#whittemore.core.Fail{:cause #{{:hedge #whittemore.core.Model{:pa {:X #{}, :Z1 #{:X}, :Z2 #{}}, :bi #{#{:Z2 :Z1} #{:Z2 :X}}}, :s #{:Z2 :Z1}}}}"
      ]
     },
     "execution_count": 44,
     "metadata": {},
     "output_type": "execute_result"
    }
   ],
   "source": [
    "(identify\n",
    "    figure-1g\n",
    "        (q [:Y] :do [:X]))"
   ]
  },
  {
   "cell_type": "markdown",
   "metadata": {},
   "source": [
    "## Figure 1h"
   ]
  },
  {
   "cell_type": "code",
   "execution_count": 45,
   "metadata": {
    "ExecuteTime": {
     "end_time": "2019-04-21T10:55:09-07:00",
     "start_time": "2019-04-21T17:55:09.599Z"
    }
   },
   "outputs": [
    {
     "data": {
      "text/html": [
       "<img src=\"data:image/svg+xml;base64,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\">"
      ]
     },
     "execution_count": 45,
     "metadata": {},
     "output_type": "execute_result"
    }
   ],
   "source": [
    "(def figure-1h\n",
    "    \"From Complete Identification methods for the Causal Hierarch by Shpitser and Pearl\"\n",
    "    (model\n",
    "        {:X [:Z]\n",
    "         :Z []\n",
    "         :W [:X]\n",
    "         :Y [:W]}\n",
    "        #{:X :Z}\n",
    "        #{:X :Y}\n",
    "        #{:Z :W}\n",
    "        #{:Z :Y}\n",
    "        ))\n",
    "figure-1h"
   ]
  },
  {
   "cell_type": "code",
   "execution_count": 46,
   "metadata": {
    "ExecuteTime": {
     "end_time": "2019-04-21T10:54:53-07:00",
     "start_time": "2019-04-21T17:54:53.221Z"
    }
   },
   "outputs": [
    {
     "data": {
      "text/plain": [
       "#whittemore.core.Fail{:cause #{{:hedge #whittemore.core.Model{:pa {:X #{:Z}, :Z #{}, :W #{:X}, :Y #{:W}}, :bi #{#{:Z :X} #{:Y :X} #{:Z :Y} #{:W :Z}}}, :s #{:Y}} {:hedge #whittemore.core.Model{:pa {:X #{:Z}, :Z #{}, :W #{:X}}, :bi #{#{:Z :X} #{:W :Z}}}, :s #{:W}}}}"
      ]
     },
     "execution_count": 46,
     "metadata": {},
     "output_type": "execute_result"
    }
   ],
   "source": [
    "(identify\n",
    "    figure-1h\n",
    "        (q [:Y] :do [:X]))"
   ]
  },
  {
   "cell_type": "markdown",
   "metadata": {},
   "source": [
    "# Figure 2: Causal graphs admitting identifiable effect $P(y|do(x))$"
   ]
  },
  {
   "cell_type": "code",
   "execution_count": 3,
   "metadata": {
    "ExecuteTime": {
     "end_time": "2019-04-24T16:21:27-07:00",
     "start_time": "2019-04-24T23:21:27.367Z"
    }
   },
   "outputs": [],
   "source": [
    "(first (list ))"
   ]
  },
  {
   "cell_type": "markdown",
   "metadata": {},
   "source": [
    "## Figure 2a"
   ]
  },
  {
   "cell_type": "code",
   "execution_count": 5,
   "metadata": {
    "ExecuteTime": {
     "end_time": "2019-04-24T17:17:14-07:00",
     "start_time": "2019-04-25T00:17:12.976Z"
    }
   },
   "outputs": [
    {
     "data": {
      "text/html": [
       "<img src=\"data:image/svg+xml;base64,PD94bWwgdmVyc2lvbj0iMS4wIiBlbmNvZGluZz0iVVRGLTgiIHN0YW5kYWxvbmU9Im5vIj8+CjwhRE9DVFlQRSBzdmcgUFVCTElDICItLy9XM0MvL0RURCBTVkcgMS4xLy9FTiIKICJodHRwOi8vd3d3LnczLm9yZy9HcmFwaGljcy9TVkcvMS4xL0RURC9zdmcxMS5kdGQiPgo8IS0tIEdlbmVyYXRlZCBieSBncmFwaHZpeiB2ZXJzaW9uIDIuNDAuMSAoMjAxNjEyMjUuMDMwNCkKIC0tPgo8IS0tIFRpdGxlOiAlMyBQYWdlczogMSAtLT4KPHN2ZyB3aWR0aD0iMTUycHQiIGhlaWdodD0iNDRwdCIKIHZpZXdCb3g9IjAuMDAgMC4wMCAxNTIuMDAgNDQuMDAiIHhtbG5zPSJodHRwOi8vd3d3LnczLm9yZy8yMDAwL3N2ZyIgeG1sbnM6eGxpbms9Imh0dHA6Ly93d3cudzMub3JnLzE5OTkveGxpbmsiPgo8ZyBpZD0iZ3JhcGgwIiBjbGFzcz0iZ3JhcGgiIHRyYW5zZm9ybT0ic2NhbGUoMSAxKSByb3RhdGUoMCkgdHJhbnNsYXRlKDQgNDApIj4KPHRpdGxlPiUzPC90aXRsZT4KPHBvbHlnb24gZmlsbD0iI2ZmZmZmZiIgc3Ryb2tlPSJ0cmFuc3BhcmVudCIgcG9pbnRzPSItNCw0IC00LC00MCAxNDgsLTQwIDE0OCw0IC00LDQiLz4KPCEtLSBYIC0tPgo8ZyBpZD0ibm9kZTEiIGNsYXNzPSJub2RlIj4KPHRpdGxlPlg8L3RpdGxlPgo8ZWxsaXBzZSBmaWxsPSJub25lIiBzdHJva2U9IiMwMDAwMDAiIGN4PSIyNyIgY3k9Ii0xOCIgcng9IjI3IiByeT0iMTgiLz4KPHRleHQgdGV4dC1hbmNob3I9Im1pZGRsZSIgeD0iMjciIHk9Ii0xMy44IiBmb250LWZhbWlseT0iVGltZXMsc2VyaWYiIGZvbnQtc2l6ZT0iMTQuMDAiIGZpbGw9IiMwMDAwMDAiPlg8L3RleHQ+CjwvZz4KPCEtLSBZIC0tPgo8ZyBpZD0ibm9kZTIiIGNsYXNzPSJub2RlIj4KPHRpdGxlPlk8L3RpdGxlPgo8ZWxsaXBzZSBmaWxsPSJub25lIiBzdHJva2U9IiMwMDAwMDAiIGN4PSIxMTciIGN5PSItMTgiIHJ4PSIyNyIgcnk9IjE4Ii8+Cjx0ZXh0IHRleHQtYW5jaG9yPSJtaWRkbGUiIHg9IjExNyIgeT0iLTEzLjgiIGZvbnQtZmFtaWx5PSJUaW1lcyxzZXJpZiIgZm9udC1zaXplPSIxNC4wMCIgZmlsbD0iIzAwMDAwMCI+WTwvdGV4dD4KPC9nPgo8IS0tIFgmIzQ1OyZndDtZIC0tPgo8ZyBpZD0iZWRnZTEiIGNsYXNzPSJlZGdlIj4KPHRpdGxlPlgmIzQ1OyZndDtZPC90aXRsZT4KPHBhdGggZmlsbD0ibm9uZSIgc3Ryb2tlPSIjMDAwMDAwIiBkPSJNNTQuMDAzLC0xOEM2Mi4wMjc3LC0xOCA3MC45NjY1LC0xOCA3OS41MzA5LC0xOCIvPgo8cG9seWdvbiBmaWxsPSIjMDAwMDAwIiBzdHJva2U9IiMwMDAwMDAiIHBvaW50cz0iNzkuNzA1MSwtMjEuNTAwMSA4OS43MDUsLTE4IDc5LjcwNSwtMTQuNTAwMSA3OS43MDUxLC0yMS41MDAxIi8+CjwvZz4KPC9nPgo8L3N2Zz4K\">"
      ]
     },
     "execution_count": 5,
     "metadata": {},
     "output_type": "execute_result"
    }
   ],
   "source": [
    "(def figure-2a\n",
    "    \"From Complete Identification methods for the Causal Hierarch by Shpitser and Pearl\"\n",
    "    (model\n",
    "        {:X []\n",
    "         :Y [:X]}\n",
    "        ))\n",
    "figure-2a"
   ]
  },
  {
   "cell_type": "code",
   "execution_count": 6,
   "metadata": {
    "ExecuteTime": {
     "end_time": "2019-04-24T17:17:16-07:00",
     "start_time": "2019-04-25T00:17:16.688Z"
    }
   },
   "outputs": [
    {
     "data": {
      "text/latex": [
       "$$\\frac{P(X, Y)}{\\left[ \\sum_{Y} P(X, Y) \\right]} \\\\ \\text{where: } \\text{(unbound)}$$"
      ]
     },
     "execution_count": 6,
     "metadata": {},
     "output_type": "execute_result"
    }
   ],
   "source": [
    "(identify\n",
    "    figure-2a\n",
    "        (q [:Y] :do [:X]))"
   ]
  },
  {
   "cell_type": "markdown",
   "metadata": {},
   "source": [
    "## Figure 2b"
   ]
  },
  {
   "cell_type": "code",
   "execution_count": 25,
   "metadata": {
    "ExecuteTime": {
     "end_time": "2019-04-21T10:38:52-07:00",
     "start_time": "2019-04-21T17:38:52.432Z"
    }
   },
   "outputs": [
    {
     "data": {
      "text/html": [
       "<img src=\"data:image/svg+xml;base64,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\">"
      ]
     },
     "execution_count": 25,
     "metadata": {},
     "output_type": "execute_result"
    }
   ],
   "source": [
    "(def figure-2b\n",
    "    \"From Complete Identification methods for the Causal Hierarch by Shpitser and Pearl\"\n",
    "    (model\n",
    "        {:X []\n",
    "         :Y [:X :Z]\n",
    "         :Z [:X]}\n",
    "        #{:Y :Z}\n",
    "        ))\n",
    "figure-2b"
   ]
  },
  {
   "cell_type": "code",
   "execution_count": 49,
   "metadata": {
    "ExecuteTime": {
     "end_time": "2019-04-21T10:55:41-07:00",
     "start_time": "2019-04-21T17:55:41.646Z"
    }
   },
   "outputs": [
    {
     "data": {
      "text/latex": [
       "$$\\left[ \\sum_{Z} \\frac{\\left[ \\sum_{Y} P(X, Y, Z) \\right]}{\\left[ \\sum_{Z} \\left[ \\sum_{Y} P(X, Y, Z) \\right] \\right]} \\frac{P(X, Y, Z)}{\\left[ \\sum_{Y} P(X, Y, Z) \\right]} \\right] \\\\ \\text{where: } \\text{(unbound)}$$"
      ]
     },
     "execution_count": 49,
     "metadata": {},
     "output_type": "execute_result"
    }
   ],
   "source": [
    "(identify\n",
    "    figure-2b\n",
    "        (q [:Y] :do [:X]))"
   ]
  },
  {
   "cell_type": "markdown",
   "metadata": {},
   "source": [
    "## Figure 2c"
   ]
  },
  {
   "cell_type": "code",
   "execution_count": 50,
   "metadata": {
    "ExecuteTime": {
     "end_time": "2019-04-21T10:56:05-07:00",
     "start_time": "2019-04-21T17:56:05.047Z"
    }
   },
   "outputs": [
    {
     "data": {
      "text/html": [
       "<img src=\"data:image/svg+xml;base64,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\">"
      ]
     },
     "execution_count": 50,
     "metadata": {},
     "output_type": "execute_result"
    }
   ],
   "source": [
    "(def figure-2c\n",
    "    \"From Complete Identification methods for the Causal Hierarch by Shpitser and Pearl\"\n",
    "    (model\n",
    "        {:X [:Z]\n",
    "         :Y [:X :Z]\n",
    "         :Z []}\n",
    "        #{:Y :Z}\n",
    "        ))\n",
    "figure-2c"
   ]
  },
  {
   "cell_type": "code",
   "execution_count": 51,
   "metadata": {
    "ExecuteTime": {
     "end_time": "2019-04-21T10:56:14-07:00",
     "start_time": "2019-04-21T17:56:14.262Z"
    }
   },
   "outputs": [
    {
     "data": {
      "text/latex": [
       "$$\\left[ \\sum_{Z} \\frac{\\left[ \\sum_{X, Y} P(X, Y, Z) \\right]}{\\left[ \\sum_{Z} \\left[ \\sum_{X, Y} P(X, Y, Z) \\right] \\right]} \\frac{P(X, Y, Z)}{\\left[ \\sum_{Y} P(X, Y, Z) \\right]} \\right] \\\\ \\text{where: } \\text{(unbound)}$$"
      ]
     },
     "execution_count": 51,
     "metadata": {},
     "output_type": "execute_result"
    }
   ],
   "source": [
    "(identify\n",
    "    figure-2c\n",
    "        (q [:Y] :do [:X]))"
   ]
  },
  {
   "cell_type": "markdown",
   "metadata": {},
   "source": [
    "## Figure 2d"
   ]
  },
  {
   "cell_type": "code",
   "execution_count": 52,
   "metadata": {
    "ExecuteTime": {
     "end_time": "2019-04-21T10:56:26-07:00",
     "start_time": "2019-04-21T17:56:26.439Z"
    },
    "scrolled": true
   },
   "outputs": [
    {
     "data": {
      "text/html": [
       "<img src=\"data:image/svg+xml;base64,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\">"
      ]
     },
     "execution_count": 52,
     "metadata": {},
     "output_type": "execute_result"
    }
   ],
   "source": [
    "(def figure-2d\n",
    "    \"From Complete Identification methods for the Causal Hierarch by Shpitser and Pearl\"\n",
    "    (model\n",
    "        {:X [:Z]\n",
    "         :Y [:X :Z]\n",
    "         :Z []}\n",
    "        #{:X :Z}\n",
    "        ))\n",
    "figure-2d"
   ]
  },
  {
   "cell_type": "code",
   "execution_count": 53,
   "metadata": {
    "ExecuteTime": {
     "end_time": "2019-04-21T10:56:33-07:00",
     "start_time": "2019-04-21T17:56:33.535Z"
    }
   },
   "outputs": [
    {
     "data": {
      "text/latex": [
       "$$\\left[ \\sum_{Z} \\frac{\\left[ \\sum_{X, Y} P(X, Y, Z) \\right]}{\\left[ \\sum_{Z} \\left[ \\sum_{X, Y} P(X, Y, Z) \\right] \\right]} \\frac{P(X, Y, Z)}{\\left[ \\sum_{Y} P(X, Y, Z) \\right]} \\right] \\\\ \\text{where: } \\text{(unbound)}$$"
      ]
     },
     "execution_count": 53,
     "metadata": {},
     "output_type": "execute_result"
    }
   ],
   "source": [
    "(identify\n",
    "    figure-2c\n",
    "        (q [:Y] :do [:X]))"
   ]
  },
  {
   "cell_type": "markdown",
   "metadata": {},
   "source": [
    "## Figure 2e"
   ]
  },
  {
   "cell_type": "code",
   "execution_count": 54,
   "metadata": {
    "ExecuteTime": {
     "end_time": "2019-04-21T10:56:50-07:00",
     "start_time": "2019-04-21T17:56:50.232Z"
    },
    "scrolled": true
   },
   "outputs": [
    {
     "data": {
      "text/html": [
       "<img src=\"data:image/svg+xml;base64,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\">"
      ]
     },
     "execution_count": 54,
     "metadata": {},
     "output_type": "execute_result"
    }
   ],
   "source": [
    "(def figure-2e\n",
    "    \"From Complete Identification methods for the Causal Hierarch by Shpitser and Pearl\"\n",
    "    (model\n",
    "        {:X []\n",
    "         :Y [:Z]\n",
    "         :Z [:X]}\n",
    "        #{:X :Y}\n",
    "        ))\n",
    "figure-2e"
   ]
  },
  {
   "cell_type": "code",
   "execution_count": 55,
   "metadata": {
    "ExecuteTime": {
     "end_time": "2019-04-21T10:56:58-07:00",
     "start_time": "2019-04-21T17:56:58.047Z"
    }
   },
   "outputs": [
    {
     "data": {
      "text/latex": [
       "$$\\left[ \\sum_{Z} \\frac{\\left[ \\sum_{Y} P(X, Y, Z) \\right]}{\\left[ \\sum_{Z} \\left[ \\sum_{Y} P(X, Y, Z) \\right] \\right]} \\left[ \\sum_{X} \\frac{P(X, Y, Z)}{\\left[ \\sum_{Y} P(X, Y, Z) \\right]} \\frac{\\left[ \\sum_{Y, Z} P(X, Y, Z) \\right]}{\\left[ \\sum_{X} \\left[ \\sum_{Y, Z} P(X, Y, Z) \\right] \\right]} \\right] \\right] \\\\ \\text{where: } \\text{(unbound)}$$"
      ]
     },
     "execution_count": 55,
     "metadata": {},
     "output_type": "execute_result"
    }
   ],
   "source": [
    "(identify\n",
    "    figure-2e\n",
    "        (q [:Y] :do [:X]))"
   ]
  },
  {
   "cell_type": "markdown",
   "metadata": {},
   "source": [
    "## Figure 2f"
   ]
  },
  {
   "cell_type": "code",
   "execution_count": 56,
   "metadata": {
    "ExecuteTime": {
     "end_time": "2019-04-21T10:57:13-07:00",
     "start_time": "2019-04-21T17:57:13.181Z"
    },
    "scrolled": true
   },
   "outputs": [
    {
     "data": {
      "text/html": [
       "<img src=\"data:image/svg+xml;base64,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\">"
      ]
     },
     "execution_count": 56,
     "metadata": {},
     "output_type": "execute_result"
    }
   ],
   "source": [
    "(def figure-2f\n",
    "    \"From Complete Identification methods for the Causal Hierarch by Shpitser and Pearl\"\n",
    "    (model\n",
    "        {:X []\n",
    "         :Y [:X :Z1 :Z2]\n",
    "         :Z1 [:X]\n",
    "         :Z2 [:Z1]}\n",
    "        #{:X :Z2}\n",
    "        #{:Y :Z1}\n",
    "        ))\n",
    "figure-2f"
   ]
  },
  {
   "cell_type": "code",
   "execution_count": 57,
   "metadata": {
    "ExecuteTime": {
     "end_time": "2019-04-21T10:57:19-07:00",
     "start_time": "2019-04-21T17:57:19.519Z"
    }
   },
   "outputs": [
    {
     "data": {
      "text/latex": [
       "$$\\left[ \\sum_{\\text{Z1}, \\text{Z2}} \\frac{\\left[ \\sum_{Y, \\text{Z2}} P(X, Y, \\text{Z1}, \\text{Z2}) \\right]}{\\left[ \\sum_{\\text{Z1}} \\left[ \\sum_{Y, \\text{Z2}} P(X, Y, \\text{Z1}, \\text{Z2}) \\right] \\right]} \\frac{P(X, Y, \\text{Z1}, \\text{Z2})}{\\left[ \\sum_{Y} P(X, Y, \\text{Z1}, \\text{Z2}) \\right]} \\left[ \\sum_{X} \\frac{\\left[ \\sum_{\\text{Z1}, \\text{Z2}} \\left[ \\sum_{Y} P(X, Y, \\text{Z1}, \\text{Z2}) \\right] \\right]}{\\left[ \\sum_{X} \\left[ \\sum_{\\text{Z1}, \\text{Z2}} \\left[ \\sum_{Y} P(X, Y, \\text{Z1}, \\text{Z2}) \\right] \\right] \\right]} \\frac{\\left[ \\sum_{Y} P(X, Y, \\text{Z1}, \\text{Z2}) \\right]}{\\left[ \\sum_{\\text{Z2}} \\left[ \\sum_{Y} P(X, Y, \\text{Z1}, \\text{Z2}) \\right] \\right]} \\right] \\right] \\\\ \\text{where: } \\text{(unbound)}$$"
      ]
     },
     "execution_count": 57,
     "metadata": {},
     "output_type": "execute_result"
    }
   ],
   "source": [
    "(identify\n",
    "    figure-2f\n",
    "        (q [:Y] :do [:X]))"
   ]
  },
  {
   "cell_type": "markdown",
   "metadata": {},
   "source": [
    "## Figure 2g"
   ]
  },
  {
   "cell_type": "code",
   "execution_count": 12,
   "metadata": {
    "ExecuteTime": {
     "end_time": "2019-04-21T01:53:13-07:00",
     "start_time": "2019-04-21T08:53:12.848Z"
    }
   },
   "outputs": [
    {
     "data": {
      "text/html": [
       "<img src=\"data:image/svg+xml;base64,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\">"
      ]
     },
     "execution_count": 12,
     "metadata": {},
     "output_type": "execute_result"
    }
   ],
   "source": [
    "(def figure-2g\n",
    "    \"From Complete Identification methods for the Causal Hierarch by Shpitser and Pearl\"\n",
    "    (model\n",
    "        {:Z2 []\n",
    "         :X [:Z2]\n",
    "         :Z1 [:X :Z2]\n",
    "         :Z3 [:Z2]\n",
    "         :Y [:Z1 :Z3]}\n",
    "        #{:X :Y}\n",
    "        #{:X :Z2}\n",
    "        #{:X :Z3}\n",
    "        #{:Z2 :Y}))\n",
    "\n",
    "figure-2g"
   ]
  },
  {
   "cell_type": "code",
   "execution_count": 58,
   "metadata": {
    "ExecuteTime": {
     "end_time": "2019-04-21T10:57:55-07:00",
     "start_time": "2019-04-21T17:57:55.132Z"
    }
   },
   "outputs": [
    {
     "data": {
      "text/latex": [
       "$$\\left[ \\sum_{\\text{Z1}, \\text{Z2}, \\text{Z3}} \\frac{\\left[ \\sum_{Y, \\text{Z1}, \\text{Z3}} \\left[ \\sum_{X} \\frac{\\left[ \\sum_{Y, \\text{Z1}} P(X, Y, \\text{Z1}, \\text{Z2}, \\text{Z3}) \\right]}{\\left[ \\sum_{\\text{Z3}} \\left[ \\sum_{Y, \\text{Z1}} P(X, Y, \\text{Z1}, \\text{Z2}, \\text{Z3}) \\right] \\right]} \\frac{\\left[ \\sum_{X, Y, \\text{Z1}, \\text{Z3}} P(X, Y, \\text{Z1}, \\text{Z2}, \\text{Z3}) \\right]}{\\left[ \\sum_{\\text{Z2}} \\left[ \\sum_{X, Y, \\text{Z1}, \\text{Z3}} P(X, Y, \\text{Z1}, \\text{Z2}, \\text{Z3}) \\right] \\right]} \\frac{P(X, Y, \\text{Z1}, \\text{Z2}, \\text{Z3})}{\\left[ \\sum_{Y} P(X, Y, \\text{Z1}, \\text{Z2}, \\text{Z3}) \\right]} \\frac{\\left[ \\sum_{Y, \\text{Z1}, \\text{Z3}} P(X, Y, \\text{Z1}, \\text{Z2}, \\text{Z3}) \\right]}{\\left[ \\sum_{X} \\left[ \\sum_{Y, \\text{Z1}, \\text{Z3}} P(X, Y, \\text{Z1}, \\text{Z2}, \\text{Z3}) \\right] \\right]} \\right] \\right]}{\\left[ \\sum_{\\text{Z2}} \\left[ \\sum_{Y, \\text{Z1}, \\text{Z3}} \\left[ \\sum_{X} \\frac{\\left[ \\sum_{Y, \\text{Z1}} P(X, Y, \\text{Z1}, \\text{Z2}, \\text{Z3}) \\right]}{\\left[ \\sum_{\\text{Z3}} \\left[ \\sum_{Y, \\text{Z1}} P(X, Y, \\text{Z1}, \\text{Z2}, \\text{Z3}) \\right] \\right]} \\frac{\\left[ \\sum_{X, Y, \\text{Z1}, \\text{Z3}} P(X, Y, \\text{Z1}, \\text{Z2}, \\text{Z3}) \\right]}{\\left[ \\sum_{\\text{Z2}} \\left[ \\sum_{X, Y, \\text{Z1}, \\text{Z3}} P(X, Y, \\text{Z1}, \\text{Z2}, \\text{Z3}) \\right] \\right]} \\frac{P(X, Y, \\text{Z1}, \\text{Z2}, \\text{Z3})}{\\left[ \\sum_{Y} P(X, Y, \\text{Z1}, \\text{Z2}, \\text{Z3}) \\right]} \\frac{\\left[ \\sum_{Y, \\text{Z1}, \\text{Z3}} P(X, Y, \\text{Z1}, \\text{Z2}, \\text{Z3}) \\right]}{\\left[ \\sum_{X} \\left[ \\sum_{Y, \\text{Z1}, \\text{Z3}} P(X, Y, \\text{Z1}, \\text{Z2}, \\text{Z3}) \\right] \\right]} \\right] \\right] \\right]} \\frac{\\left[ \\sum_{\\text{Z1}} \\left[ \\sum_{X} \\frac{\\left[ \\sum_{Y, \\text{Z1}} P(X, Y, \\text{Z1}, \\text{Z2}, \\text{Z3}) \\right]}{\\left[ \\sum_{\\text{Z3}} \\left[ \\sum_{Y, \\text{Z1}} P(X, Y, \\text{Z1}, \\text{Z2}, \\text{Z3}) \\right] \\right]} \\frac{\\left[ \\sum_{X, Y, \\text{Z1}, \\text{Z3}} P(X, Y, \\text{Z1}, \\text{Z2}, \\text{Z3}) \\right]}{\\left[ \\sum_{\\text{Z2}} \\left[ \\sum_{X, Y, \\text{Z1}, \\text{Z3}} P(X, Y, \\text{Z1}, \\text{Z2}, \\text{Z3}) \\right] \\right]} \\frac{P(X, Y, \\text{Z1}, \\text{Z2}, \\text{Z3})}{\\left[ \\sum_{Y} P(X, Y, \\text{Z1}, \\text{Z2}, \\text{Z3}) \\right]} \\frac{\\left[ \\sum_{Y, \\text{Z1}, \\text{Z3}} P(X, Y, \\text{Z1}, \\text{Z2}, \\text{Z3}) \\right]}{\\left[ \\sum_{X} \\left[ \\sum_{Y, \\text{Z1}, \\text{Z3}} P(X, Y, \\text{Z1}, \\text{Z2}, \\text{Z3}) \\right] \\right]} \\right] \\right]}{\\left[ \\sum_{Y} \\left[ \\sum_{\\text{Z1}} \\left[ \\sum_{X} \\frac{\\left[ \\sum_{Y, \\text{Z1}} P(X, Y, \\text{Z1}, \\text{Z2}, \\text{Z3}) \\right]}{\\left[ \\sum_{\\text{Z3}} \\left[ \\sum_{Y, \\text{Z1}} P(X, Y, \\text{Z1}, \\text{Z2}, \\text{Z3}) \\right] \\right]} \\frac{\\left[ \\sum_{X, Y, \\text{Z1}, \\text{Z3}} P(X, Y, \\text{Z1}, \\text{Z2}, \\text{Z3}) \\right]}{\\left[ \\sum_{\\text{Z2}} \\left[ \\sum_{X, Y, \\text{Z1}, \\text{Z3}} P(X, Y, \\text{Z1}, \\text{Z2}, \\text{Z3}) \\right] \\right]} \\frac{P(X, Y, \\text{Z1}, \\text{Z2}, \\text{Z3})}{\\left[ \\sum_{Y} P(X, Y, \\text{Z1}, \\text{Z2}, \\text{Z3}) \\right]} \\frac{\\left[ \\sum_{Y, \\text{Z1}, \\text{Z3}} P(X, Y, \\text{Z1}, \\text{Z2}, \\text{Z3}) \\right]}{\\left[ \\sum_{X} \\left[ \\sum_{Y, \\text{Z1}, \\text{Z3}} P(X, Y, \\text{Z1}, \\text{Z2}, \\text{Z3}) \\right] \\right]} \\right] \\right] \\right]} \\frac{\\left[ \\sum_{X, Y, \\text{Z1}} P(X, Y, \\text{Z1}, \\text{Z2}, \\text{Z3}) \\right]}{\\left[ \\sum_{\\text{Z3}} \\left[ \\sum_{X, Y, \\text{Z1}} P(X, Y, \\text{Z1}, \\text{Z2}, \\text{Z3}) \\right] \\right]} \\frac{\\left[ \\sum_{Y, \\text{Z3}} P(X, Y, \\text{Z1}, \\text{Z2}, \\text{Z3}) \\right]}{\\left[ \\sum_{\\text{Z1}} \\left[ \\sum_{Y, \\text{Z3}} P(X, Y, \\text{Z1}, \\text{Z2}, \\text{Z3}) \\right] \\right]} \\right] \\\\ \\text{where: } \\text{(unbound)}$$"
      ]
     },
     "execution_count": 58,
     "metadata": {},
     "output_type": "execute_result"
    }
   ],
   "source": [
    "(identify\n",
    "    figure-2g\n",
    "        (q [:Y] :do [:X]))"
   ]
  },
  {
   "cell_type": "markdown",
   "metadata": {},
   "source": [
    "# Figure 3 graphs"
   ]
  },
  {
   "cell_type": "markdown",
   "metadata": {},
   "source": [
    "## A graph edge-less for $P(y|do(x)$"
   ]
  },
  {
   "cell_type": "code",
   "execution_count": 29,
   "metadata": {
    "ExecuteTime": {
     "end_time": "2019-04-21T10:45:22-07:00",
     "start_time": "2019-04-21T17:45:22.577Z"
    }
   },
   "outputs": [
    {
     "data": {
      "text/html": [
       "<img src=\"data:image/svg+xml;base64,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\">"
      ]
     },
     "execution_count": 29,
     "metadata": {},
     "output_type": "execute_result"
    }
   ],
   "source": [
    "(def figure-3a\n",
    "    \"From Complete Identification methods for the Causal Hierarch by Shpitser and Pearl\"\n",
    "    (model\n",
    "        {:W1 []\n",
    "         :X [:W1]\n",
    "         :Y1 [:X]\n",
    "         :W2 []\n",
    "         :Y2 [:W2]}\n",
    "         #{:W1 :Y1}\n",
    "         #{:W2 :X}\n",
    "         #{:W1 :W2}\n",
    "         #{:W1 :Y2}\n",
    "        ))\n",
    "figure-3a"
   ]
  },
  {
   "cell_type": "code",
   "execution_count": 59,
   "metadata": {
    "ExecuteTime": {
     "end_time": "2019-04-21T10:58:25-07:00",
     "start_time": "2019-04-21T17:58:25.645Z"
    }
   },
   "outputs": [
    {
     "data": {
      "text/latex": [
       "$$\\left[ \\sum_{\\text{W2}} \\left[ \\sum_{\\text{W1}} \\frac{\\left[ \\sum_{X, \\text{Y1}} \\left[ \\sum_{\\text{W2}, \\text{Y2}} P(\\text{W1}, \\text{W2}, X, \\text{Y1}, \\text{Y2}) \\right] \\right]}{\\left[ \\sum_{\\text{W1}} \\left[ \\sum_{X, \\text{Y1}} \\left[ \\sum_{\\text{W2}, \\text{Y2}} P(\\text{W1}, \\text{W2}, X, \\text{Y1}, \\text{Y2}) \\right] \\right] \\right]} \\frac{\\left[ \\sum_{\\text{W2}, \\text{Y2}} P(\\text{W1}, \\text{W2}, X, \\text{Y1}, \\text{Y2}) \\right]}{\\left[ \\sum_{\\text{Y1}} \\left[ \\sum_{\\text{W2}, \\text{Y2}} P(\\text{W1}, \\text{W2}, X, \\text{Y1}, \\text{Y2}) \\right] \\right]} \\right] \\left[ \\sum_{\\text{W1}, X, \\text{Y1}, \\text{Y2}} P(\\text{W1}, \\text{W2}, X, \\text{Y1}, \\text{Y2}) \\right] \\frac{\\left[ \\sum_{\\text{W1}, X, \\text{Y1}} P(\\text{W1}, \\text{W2}, X, \\text{Y1}, \\text{Y2}) \\right]}{\\left[ \\sum_{\\text{Y2}} \\left[ \\sum_{\\text{W1}, X, \\text{Y1}} P(\\text{W1}, \\text{W2}, X, \\text{Y1}, \\text{Y2}) \\right] \\right]} \\right] \\\\ \\text{where: } \\text{(unbound)}$$"
      ]
     },
     "execution_count": 59,
     "metadata": {},
     "output_type": "execute_result"
    }
   ],
   "source": []
  },
  {
   "cell_type": "markdown",
   "metadata": {},
   "source": [
    "## A graph containing a hedge for $P(y|do(x))$"
   ]
  },
  {
   "cell_type": "code",
   "execution_count": 61,
   "metadata": {
    "ExecuteTime": {
     "end_time": "2019-04-21T10:59:14-07:00",
     "start_time": "2019-04-21T17:59:14.653Z"
    }
   },
   "outputs": [
    {
     "data": {
      "text/html": [
       "<img src=\"data:image/svg+xml;base64,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\">"
      ]
     },
     "execution_count": 61,
     "metadata": {},
     "output_type": "execute_result"
    }
   ],
   "source": [
    "(def figure-3b\n",
    "    \"From Complete Identification methods for the Causal Hierarch by Shpitser and Pearl\"\n",
    "    (model\n",
    "        {:W1 []\n",
    "         :X [:W1]\n",
    "         :Y1 [:X]\n",
    "         :W2 [:W1]\n",
    "         :Y2 [:W2]}\n",
    "         #{:W1 :Y1}\n",
    "         #{:W2 :X}\n",
    "         #{:W1 :W2}\n",
    "         #{:W1 :Y2}\n",
    "        ))\n",
    "figure-3b"
   ]
  },
  {
   "cell_type": "code",
   "execution_count": 63,
   "metadata": {
    "ExecuteTime": {
     "end_time": "2019-04-21T10:59:27-07:00",
     "start_time": "2019-04-21T17:59:27.077Z"
    }
   },
   "outputs": [
    {
     "data": {
      "text/plain": [
       "#whittemore.core.Fail{:cause #{{:hedge #whittemore.core.Model{:pa {:W1 #{}, :X #{:W1}, :Y1 #{:X}, :W2 #{:W1}, :Y2 #{:W2}}, :bi #{#{:X :W2} #{:W1 :W2} #{:W1 :Y2} #{:W1 :Y1}}}, :s #{:W1 :Y2 :Y1 :W2}}}}"
      ]
     },
     "execution_count": 63,
     "metadata": {},
     "output_type": "execute_result"
    }
   ],
   "source": [
    "(identify\n",
    "    figure-3b\n",
    "        (q [:Y1 :Y2] :do [:X]))"
   ]
  },
  {
   "cell_type": "code",
   "execution_count": 10,
   "metadata": {
    "ExecuteTime": {
     "end_time": "2019-04-21T01:47:12-07:00",
     "start_time": "2019-04-21T08:47:12.535Z"
    }
   },
   "outputs": [
    {
     "data": {
      "text/html": [
       "<img src=\"data:image/svg+xml;base64,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\">"
      ]
     },
     "execution_count": 10,
     "metadata": {},
     "output_type": "execute_result"
    }
   ],
   "source": [
    "(def figure-3a-debugged\n",
    "    \"From Complete Identification methods for the Causal Hierarch by Shpitser and Pearl\"\n",
    "    (model\n",
    "        {:W1 []\n",
    "         :X [:W1]\n",
    "         :Y1 [:X]\n",
    "         :W2 []\n",
    "         :Y2 [:W2]}\n",
    "         #{:W1 :Y1}\n",
    "         #{:W2 :X}\n",
    "         #{:W2 :W1}\n",
    "         #{:W1 :Y2}\n",
    "        #{:W2 :Y2}))\n",
    "\n",
    "figure-3a-debugged"
   ]
  },
  {
   "cell_type": "code",
   "execution_count": 11,
   "metadata": {
    "ExecuteTime": {
     "end_time": "2019-04-21T01:47:44-07:00",
     "start_time": "2019-04-21T08:47:44.201Z"
    }
   },
   "outputs": [
    {
     "data": {
      "text/plain": [
       "#whittemore.core.Fail{:cause #{{:hedge #whittemore.core.Model{:pa {:W1 #{}, :X #{:W1}, :Y1 #{:X}, :W2 #{}, :Y2 #{:W2}}, :bi #{#{:Y2 :W2} #{:X :W2} #{:W1 :W2} #{:W1 :Y2} #{:W1 :Y1}}}, :s #{:W1 :Y2 :Y1 :X :W2}}}}"
      ]
     },
     "execution_count": 11,
     "metadata": {},
     "output_type": "execute_result"
    }
   ],
   "source": [
    "(def debugged\n",
    "    (identify\n",
    "        figure-3a-debugged\n",
    "        (q [:Y1 :Y2] :do [:x])))\n",
    "\n",
    "debugged"
   ]
  },
  {
   "cell_type": "markdown",
   "metadata": {},
   "source": [
    "# Figure 4: A complete identification algorithm. \n",
    "\n",
    "**FAIL** propagates through recursive calls like an exception, and returns the hedge which witnesses non-identifiability. $V_\\pi^{(i-1)}$ is the set of nodes preceding $V_i$ in some topological ordering $\\pi$ in $G$.\n",
    "\n",
    "1. If no action has been taken, the effect on $\\mathbf Y$ is just the marginal of the observational distribution $P(\\mathbf v)$ on $\\mathbf Y$. \n",
    "2. If we are interested in the effect on $\\mathbf Y$, it is sufficient to restrict our attention on the parts of the model ancestral to $\\mathbf Y$.\n",
    "3. Forces an action on any node where such an action would have no effect on $\\mathbf Y$—assuming we already acted on $\\mathbf X$. Since actions remove incoming arrows, we can view line 3 as simplifying the causal graph we consider by removing certain arcs from the graph, without affecting the overall answer.\n",
    "4. The key line of the algorithm, it decomposes the problem into a set of smaller problems using the key property of *c-component factorization* of causal models. If the entire graph is a single C-component already, further problem decomposition is impossible, and we must provide base cases. $\\mathbf{ID}$ has three base cases. \n",
    "5. Fails because it finds two C-components, the graph $G$ itself, and a subgraph $S$ that does not contain any $\\mathbf X$ nodes. But that is exactly one of the properties of C-forests that make up a hedge. In fact, it turns out that it is always possible to recover a hedge from these two c-components.\n",
    "6. Asserts that if there are no bidirected arcs from X to the other nodes in the current subproblem under consideration, then we can replace acting on X by conditioning, and thus solve the subproblem. \n",
    "7. The most complex case where $\\mathbf X$ is partitioned into two sets, $\\mathbf W$ which contain bidireced arcs into other nodes in the subproblem, and $\\mathbf Z$ which do not. In this situation, identifying $P(\\mathbf y|do(\\mathbf x))$ from $P(v)$ is equivalent to identifying $P(\\mathbf y|do(\\mathbf w))$ from $P(\\mathbf V|do(\\mathbf z))$, since $P(\\mathbf y|do(\\mathbf x)) = P(\\mathbf y|do(\\mathbf w), do(\\mathbf z))$. But the term $P(\\mathbf V|do(\\mathbf z))$ is identifiable using the previous base case, so we can consider the subproblem of identifying $P(\\mathbf y|do(\\mathbf w))$.\n",
    "\n",
    "\n",
    "$\\text{function }\\mathbf{ID}\\left(\\mathbf y, \\mathbf x, P, G\\right) \\\\ \\text{INPUT: } \\mathbf{x,y}\\text{ value assignments, $P$ a probability distribution, $G$ a causal diagram}. \\\\  \\text{OUTPUT:  Expression for $P_{\\mathbf x}(\\mathbf y)$ in terms of $P$ or $\\mathbf{FAIL}(F, F')$} $\n",
    "\n",
    "\n",
    "\n",
    "1. $\\text{if }{\\mathbf x} =\\emptyset \\text{ return }\\sum_{\\mathbf v - \\mathbf y}P({\\mathbf v})$. &nbsp;&nbsp;&nbsp; \n",
    "2. $\\text{if }\\mathbf V - An(\\mathbf Y)_G \\neq \\emptyset \\\\  \\text{ return } \\mathbf{ ID}\\left(\\mathbf y, \\mathbf x\\cap An(\\mathbf Y)_G, \\sum_{\\mathbf V - An(Y)_G}P, G_{An(\\mathbf Y)}\\right)$.\n",
    "3. $\\text{let }\\mathbf W = (\\mathbf V - X) - An(\\mathbf Y)_{G_{\\bar{\\mathbf X}}}. \\\\ \\text{if } \\mathbf W \\neq \\emptyset, \\text{ return } \\mathbf{ID}\\left(\\mathbf y, \\mathbf x\\cup \\mathbf w, P, G\\right)$.\n",
    "4. $\\text{if }C(G-\\mathbf X) = \\{S_1,\\ldots S_k\\} \\\\ \\text{ return }\\sum_{\\mathbf v - (\\mathbf y \\cup \\mathbf x)}\\prod_i\\mathbf{ID}\\left(s_i, \\mathbf v - s_i, P, G\\right) \\\\ \\text{if }C(G -\\mathbf X) = \\{S\\}$\n",
    "5. &nbsp; &nbsp;&nbsp;$\\text{       if }C(G) = \\{G\\},\\\\  \\text{ throw }\\mathbf{FAIL}\\left(G,G\\cap S\\right)$.\n",
    "6. &nbsp; &nbsp;&nbsp;$\\text{ if }S\\in C(G) \\\\ \\text{ return }\\sum_{S - \\mathbf y}\\prod_{\\{i|V_i\\in S\\}}P\\left(v_i|v_\\pi^{(i-1)}\\right)$\n",
    "7. &nbsp; &nbsp;&nbsp;$\\text{ if }(\\exists S')S\\subset S'\\in C(G) \\\\ \\text{ return }\\mathbf{ID}\\left(\\mathbf y, \\mathbf x\\cap S', \\prod_{\\{i|V_i\\in S'\\}}P(V_i|V_\\pi^{(i-1)}\\cap S', v_\\pi^{(i-1)} - S'), G_{S'}\\right)$.\n",
    "\n"
   ]
  },
  {
   "cell_type": "markdown",
   "metadata": {},
   "source": [
    "## Application of $\\mathbf{ID}$ to Figure 3a"
   ]
  },
  {
   "cell_type": "markdown",
   "metadata": {},
   "source": [
    "We give an example of the operation of the algorithm by identifying $P_x(y_1 , y_2 )$ from $P(\\mathbf v)$ in the graph shown in in Fig. 3 (a). Since $G = G_{An(\\{Y_1, Y_2\\})}$,  $C(G - \\{X\\}) = \\{G\\}$, and $W = \\{W_1\\}$ , we invoke line 3 and attempt to identify $P_{x,w} (y_1, y_2 )$. Now $C(G - \\{X, W \\}) = \\{Y_1, W_2 \\rightarrow Y_2\\}$ , so we invoke line 4. Thus the original problem reduces to identifying $\\sum_{w_2}P_{x,w_1, w_2, y_2} (y_1 )P_{w,x,y_1} (w_2, y_2 )$. Solving for the second expression, we trigger line 2, noting that we can ignore nodes which are not ancestors of $W_2$ and $Y_2$ , which means $P_{w,x,y_1}(w_2, y_2 ) = P(w_2, y2 )$. Solving for the first expression, we first trigger line 2 also, obtaining $P_{x,w_1,w_2,y_2} (y_1 ) = P_{x, w} (y_1 )$. The corresponding $G$ is shown in Fig. 5 (a). Next, we trigger line 7, reducing the problem to computing $P_w(y_1 )$ from $P(Y_1 |X,  W_1 )P(W_1 )$. The corresponding $G$ is shown in Fig. 5 (b). Finally, we trigger line 2, obtaining $P_w(y_1 ) = \\sum_{w_1}P(y_1 | x , w_1 )P(w_1 )$. Putting everything together, we obtain: \n",
    "$$P_x (y_1 , y_2 ) = \\sum_{w_2} P(y_1, w_2 ) \\sum_{w_1} P(y_1 | x , w_1 )P(w_1 )$$. "
   ]
  },
  {
   "cell_type": "code",
   "execution_count": 66,
   "metadata": {
    "ExecuteTime": {
     "end_time": "2019-04-21T12:13:14-07:00",
     "start_time": "2019-04-21T19:13:14.624Z"
    }
   },
   "outputs": [
    {
     "data": {
      "text/latex": [
       "$$\\left[ \\sum_{\\text{W2}} \\left[ \\sum_{\\text{W1}} \\frac{\\left[ \\sum_{X, \\text{Y1}} \\left[ \\sum_{\\text{W2}, \\text{Y2}} P(\\text{W1}, \\text{W2}, X, \\text{Y1}, \\text{Y2}) \\right] \\right]}{\\left[ \\sum_{\\text{W1}} \\left[ \\sum_{X, \\text{Y1}} \\left[ \\sum_{\\text{W2}, \\text{Y2}} P(\\text{W1}, \\text{W2}, X, \\text{Y1}, \\text{Y2}) \\right] \\right] \\right]} \\frac{\\left[ \\sum_{\\text{W2}, \\text{Y2}} P(\\text{W1}, \\text{W2}, X, \\text{Y1}, \\text{Y2}) \\right]}{\\left[ \\sum_{\\text{Y1}} \\left[ \\sum_{\\text{W2}, \\text{Y2}} P(\\text{W1}, \\text{W2}, X, \\text{Y1}, \\text{Y2}) \\right] \\right]} \\right] \\left[ \\sum_{\\text{W1}, X, \\text{Y1}, \\text{Y2}} P(\\text{W1}, \\text{W2}, X, \\text{Y1}, \\text{Y2}) \\right] \\frac{\\left[ \\sum_{\\text{W1}, X, \\text{Y1}} P(\\text{W1}, \\text{W2}, X, \\text{Y1}, \\text{Y2}) \\right]}{\\left[ \\sum_{\\text{Y2}} \\left[ \\sum_{\\text{W1}, X, \\text{Y1}} P(\\text{W1}, \\text{W2}, X, \\text{Y1}, \\text{Y2}) \\right] \\right]} \\right] \\\\ \\text{where: } \\text{(unbound)}$$"
      ]
     },
     "execution_count": 66,
     "metadata": {},
     "output_type": "execute_result"
    }
   ],
   "source": [
    "(identify\n",
    "    figure-3a\n",
    "        (q [:Y1 :Y2] :do [:X]))"
   ]
  },
  {
   "cell_type": "markdown",
   "metadata": {},
   "source": [
    "Note that this expression is not simplified by the independencies induced by the original causal network.\n",
    "That is, whittemore uses the full joint probability distribution $P(W_1,W_2,X,Y_1,Y_2)$ rather than the factored conditional probability distribution $P(W_1)P(X|W_1)P(Y_1|X)P(W_2)P(Y_2|W2)$ induced by the graph in Fig. 3a"
   ]
  },
  {
   "cell_type": "markdown",
   "metadata": {
    "ExecuteTime": {
     "end_time": "2019-04-21T01:55:06-07:00",
     "start_time": "2019-04-21T08:55:05.990Z"
    }
   },
   "source": [
    "# Figure 5: Subgraphs of G used for identifying $P_x(y_1,y_2)$.\n"
   ]
  },
  {
   "cell_type": "markdown",
   "metadata": {},
   "source": [
    "## Figure 5a"
   ]
  },
  {
   "cell_type": "code",
   "execution_count": 64,
   "metadata": {
    "ExecuteTime": {
     "end_time": "2019-04-21T12:10:32-07:00",
     "start_time": "2019-04-21T19:10:32.032Z"
    }
   },
   "outputs": [
    {
     "data": {
      "text/html": [
       "<img src=\"data:image/svg+xml;base64,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\">"
      ]
     },
     "execution_count": 64,
     "metadata": {},
     "output_type": "execute_result"
    }
   ],
   "source": [
    "(def figure-5a\n",
    "    (model\n",
    "        {:W1 []\n",
    "         :X  [:W1]\n",
    "         :Y1 [:X]}\n",
    "        #{:W1 :Y1}))\n",
    "figure-5a"
   ]
  },
  {
   "cell_type": "markdown",
   "metadata": {},
   "source": [
    "## Figure 5b"
   ]
  },
  {
   "cell_type": "code",
   "execution_count": 65,
   "metadata": {
    "ExecuteTime": {
     "end_time": "2019-04-21T12:11:16-07:00",
     "start_time": "2019-04-21T19:11:16.713Z"
    }
   },
   "outputs": [
    {
     "data": {
      "text/html": [
       "<img src=\"data:image/svg+xml;base64,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\">"
      ]
     },
     "execution_count": 65,
     "metadata": {},
     "output_type": "execute_result"
    }
   ],
   "source": [
    "(def figure-5b\n",
    "    (model\n",
    "        {}\n",
    "        #{:W1 :Y1}))\n",
    "figure-5b"
   ]
  }
 ],
 "metadata": {
  "kernelspec": {
   "display_name": "Lein-Clojure",
   "language": "clojure",
   "name": "lein-clojure"
  },
  "language_info": {
   "file_extension": ".clj",
   "mimetype": "text/x-clojure",
   "name": "clojure",
   "version": "1.8.0"
  },
  "toc": {
   "base_numbering": 1,
   "nav_menu": {},
   "number_sections": true,
   "sideBar": true,
   "skip_h1_title": false,
   "title_cell": "Table of Contents",
   "title_sidebar": "Contents",
   "toc_cell": true,
   "toc_position": {},
   "toc_section_display": true,
   "toc_window_display": false
  },
  "varInspector": {
   "cols": {
    "lenName": 16,
    "lenType": 16,
    "lenVar": 40
   },
   "kernels_config": {
    "python": {
     "delete_cmd_postfix": "",
     "delete_cmd_prefix": "del ",
     "library": "var_list.py",
     "varRefreshCmd": "print(var_dic_list())"
    },
    "r": {
     "delete_cmd_postfix": ") ",
     "delete_cmd_prefix": "rm(",
     "library": "var_list.r",
     "varRefreshCmd": "cat(var_dic_list()) "
    }
   },
   "types_to_exclude": [
    "module",
    "function",
    "builtin_function_or_method",
    "instance",
    "_Feature"
   ],
   "window_display": false
  }
 },
 "nbformat": 4,
 "nbformat_minor": 2
}
